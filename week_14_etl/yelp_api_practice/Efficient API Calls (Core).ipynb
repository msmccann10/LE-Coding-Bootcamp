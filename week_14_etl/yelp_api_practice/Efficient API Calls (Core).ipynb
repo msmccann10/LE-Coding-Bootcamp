{
 "cells": [
  {
   "cell_type": "markdown",
   "id": "ef33531a",
   "metadata": {},
   "source": [
    "# Efficient API Calls (Core)\n",
    "Name: Mike McCann <br>\n",
    "Date: 26 APR 2022"
   ]
  },
  {
   "cell_type": "markdown",
   "id": "206583fb",
   "metadata": {},
   "source": [
    "## Imports"
   ]
  },
  {
   "cell_type": "code",
   "execution_count": 2,
   "id": "7c1311d9",
   "metadata": {},
   "outputs": [],
   "source": [
    "import pandas as pd\n",
    "import numpy as np\n",
    "import matplotlib.pyplot as plt\n",
    "import seaborn as sns\n",
    "\n",
    "import os, json, math, time\n",
    "from yelpapi import YelpAPI\n",
    "from tqdm.notebook import tqdm_notebook"
   ]
  },
  {
   "cell_type": "markdown",
   "id": "16dc8b63",
   "metadata": {},
   "source": [
    "## API Setup"
   ]
  },
  {
   "cell_type": "code",
   "execution_count": 4,
   "id": "2ddf9030",
   "metadata": {},
   "outputs": [
    {
     "data": {
      "text/plain": [
       "dict_keys(['client-id', 'api-key'])"
      ]
     },
     "execution_count": 4,
     "metadata": {},
     "output_type": "execute_result"
    }
   ],
   "source": [
    "# load creds\n",
    "api_path = '../../.secret/yelp_api.json'\n",
    "\n",
    "with open (api_path, 'r') as f:\n",
    "    login = json.load(f)\n",
    "    \n",
    "login.keys()"
   ]
  },
  {
   "cell_type": "code",
   "execution_count": 6,
   "id": "df867e5c",
   "metadata": {},
   "outputs": [
    {
     "data": {
      "text/plain": [
       "<yelpapi.yelpapi.YelpAPI at 0x206abddd808>"
      ]
     },
     "execution_count": 6,
     "metadata": {},
     "output_type": "execute_result"
    }
   ],
   "source": [
    "# instantiate yelpAPI\n",
    "yelp_api = YelpAPI(login['api-key'], timeout_s = 3)\n",
    "yelp_api"
   ]
  },
  {
   "cell_type": "code",
   "execution_count": 7,
   "id": "904953cd",
   "metadata": {},
   "outputs": [],
   "source": [
    "# Define terms for yelp search (LOCATION and TERM)\n",
    "LOCATION = \"Charlottesville, VA\"\n",
    "TERM = \"taco\""
   ]
  },
  {
   "cell_type": "markdown",
   "id": "2d2a2522",
   "metadata": {},
   "source": [
    "## Create/Confirm Data Location"
   ]
  },
  {
   "cell_type": "code",
   "execution_count": 9,
   "id": "9e004d19",
   "metadata": {},
   "outputs": [
    {
     "data": {
      "text/plain": [
       "'Data/results_in_progress_Charlottesville_taco.json'"
      ]
     },
     "execution_count": 9,
     "metadata": {},
     "output_type": "execute_result"
    }
   ],
   "source": [
    "# Create folder and filepath for saving work\n",
    "FOLDER = \"Data/\"\n",
    "\n",
    "JSON_FILE = f\"{FOLDER}results_in_progress_{LOCATION.split(',')[0]}_{TERM}.json\"\n",
    "JSON_FILE"
   ]
  },
  {
   "cell_type": "code",
   "execution_count": 12,
   "id": "20dbd92f",
   "metadata": {},
   "outputs": [
    {
     "name": "stdout",
     "output_type": "stream",
     "text": [
      "Data/results_in_progress_Charlottesville_taco.json aleady exists.\n"
     ]
    }
   ],
   "source": [
    "# Check for existing JSON FILE\n",
    "file_exists = os.path.isfile(JSON_FILE)\n",
    "\n",
    "if file_exists == False:\n",
    "    folder = os.path.dirname(JSON_FILE)\n",
    "    if len(folder) > 0:\n",
    "        os.makedirs(folder, exist_ok = True)\n",
    "    \n",
    "    print(f\"{JSON_FILE} not found. Saving empty list to file.\")\n",
    "    \n",
    "    with open(JSON_FILE, 'w') as f:\n",
    "        json.dump([],f)\n",
    "\n",
    "else: \n",
    "    print(f\"{JSON_FILE} aleady exists.\")"
   ]
  },
  {
   "cell_type": "code",
   "execution_count": 15,
   "id": "994715e0",
   "metadata": {},
   "outputs": [
    {
     "name": "stdout",
     "output_type": "stream",
     "text": [
      "There are 0 previous results\n"
     ]
    }
   ],
   "source": [
    "# Check if results are already saved..\n",
    "with open(JSON_FILE, 'r') as f:\n",
    "    previous_results = json.load(f)\n",
    "    \n",
    "# Set offset based on results\n",
    "n_results = len(previous_results)\n",
    "print(f\"There are {n_results} previous results\")"
   ]
  },
  {
   "cell_type": "markdown",
   "id": "f60d2db8",
   "metadata": {},
   "source": [
    "## Initial Pull"
   ]
  },
  {
   "cell_type": "code",
   "execution_count": 16,
   "id": "0c59c833",
   "metadata": {},
   "outputs": [
    {
     "data": {
      "text/plain": [
       "dict_keys(['businesses', 'total', 'region'])"
      ]
     },
     "execution_count": 16,
     "metadata": {},
     "output_type": "execute_result"
    }
   ],
   "source": [
    "# First pull\n",
    "results = yelp_api.search_query(location = LOCATION,\n",
    "                               term = TERM,\n",
    "                               offset = n_results+1)\n",
    "results.keys()"
   ]
  },
  {
   "cell_type": "code",
   "execution_count": 18,
   "id": "e66291e6",
   "metadata": {},
   "outputs": [
    {
     "name": "stdout",
     "output_type": "stream",
     "text": [
      "Searching for taco in Charlottesville, VA has yielded 112 results\n",
      "There are 20 results per page/search\n",
      "We will need 6 pages to complete our API call\n"
     ]
    }
   ],
   "source": [
    "total_results = results['total']\n",
    "results_per_page = len(results['businesses'])\n",
    "n_pages = math.ceil((total_results - n_results) / results_per_page)\n",
    "\n",
    "print(f\"Searching for {TERM} in {LOCATION} has yielded {total_results} results\")\n",
    "print(f\"There are {results_per_page} results per page/search\")\n",
    "print(f\"We will need {n_pages} pages to complete our API call\")"
   ]
  },
  {
   "cell_type": "code",
   "execution_count": 19,
   "id": "91f33fe5",
   "metadata": {},
   "outputs": [],
   "source": [
    "# Save out our current results\n",
    "previous_results.extend(results['businesses'])\n",
    "with open(JSON_FILE, 'w') as f:\n",
    "    json.dump(previous_results, f)"
   ]
  },
  {
   "cell_type": "markdown",
   "id": "54bb32d0",
   "metadata": {},
   "source": [
    "## Loop Pull"
   ]
  },
  {
   "cell_type": "code",
   "execution_count": 20,
   "id": "77c709d2",
   "metadata": {},
   "outputs": [
    {
     "data": {
      "application/vnd.jupyter.widget-view+json": {
       "model_id": "2691e79094024238b246c39e7318358e",
       "version_major": 2,
       "version_minor": 0
      },
      "text/plain": [
       "  0%|          | 0/6 [00:00<?, ?it/s]"
      ]
     },
     "metadata": {},
     "output_type": "display_data"
    }
   ],
   "source": [
    "for i in tqdm_notebook(range(1,n_pages+1)):\n",
    "    time.sleep(.2)\n",
    "    \n",
    "    #check for previous results\n",
    "    with open(JSON_FILE, 'r') as f:\n",
    "        previous_results = json.load(f)\n",
    "\n",
    "    # Create offset    \n",
    "    n_results = len(previous_results)\n",
    "    \n",
    "    # Run API call\n",
    "    results = yelp_api.search_query(location = LOCATION,\n",
    "                                   term = TERM,\n",
    "                                   offset = n_results+1)\n",
    "    \n",
    "    # extract and extend businesses to our previous results\n",
    "    previous_results.extend(results['businesses'])\n",
    "    \n",
    "    # Save current iteration\n",
    "    with open(JSON_FILE, 'w') as f:\n",
    "        json.dump(previous_results, f)"
   ]
  },
  {
   "cell_type": "markdown",
   "id": "08ca8304",
   "metadata": {},
   "source": [
    "## Check and Save Results"
   ]
  },
  {
   "cell_type": "code",
   "execution_count": 21,
   "id": "a39ed472",
   "metadata": {},
   "outputs": [
    {
     "data": {
      "text/html": [
       "<div>\n",
       "<style scoped>\n",
       "    .dataframe tbody tr th:only-of-type {\n",
       "        vertical-align: middle;\n",
       "    }\n",
       "\n",
       "    .dataframe tbody tr th {\n",
       "        vertical-align: top;\n",
       "    }\n",
       "\n",
       "    .dataframe thead th {\n",
       "        text-align: right;\n",
       "    }\n",
       "</style>\n",
       "<table border=\"1\" class=\"dataframe\">\n",
       "  <thead>\n",
       "    <tr style=\"text-align: right;\">\n",
       "      <th></th>\n",
       "      <th>id</th>\n",
       "      <th>alias</th>\n",
       "      <th>name</th>\n",
       "      <th>image_url</th>\n",
       "      <th>is_closed</th>\n",
       "      <th>url</th>\n",
       "      <th>review_count</th>\n",
       "      <th>categories</th>\n",
       "      <th>rating</th>\n",
       "      <th>coordinates</th>\n",
       "      <th>transactions</th>\n",
       "      <th>price</th>\n",
       "      <th>location</th>\n",
       "      <th>phone</th>\n",
       "      <th>display_phone</th>\n",
       "      <th>distance</th>\n",
       "    </tr>\n",
       "  </thead>\n",
       "  <tbody>\n",
       "    <tr>\n",
       "      <th>0</th>\n",
       "      <td>kViH5j4Z4S3OlTSwBEm-Nw</td>\n",
       "      <td>la-michoacana-taqueria-and-restaurant-charlott...</td>\n",
       "      <td>La Michoacana Taqueria &amp; Restaurant</td>\n",
       "      <td>https://s3-media2.fl.yelpcdn.com/bphoto/edLG_l...</td>\n",
       "      <td>False</td>\n",
       "      <td>https://www.yelp.com/biz/la-michoacana-taqueri...</td>\n",
       "      <td>240</td>\n",
       "      <td>[{'alias': 'mexican', 'title': 'Mexican'}]</td>\n",
       "      <td>4.5</td>\n",
       "      <td>{'latitude': 38.0317039489746, 'longitude': -7...</td>\n",
       "      <td>[pickup, delivery]</td>\n",
       "      <td>$</td>\n",
       "      <td>{'address1': '1138 E High St', 'address2': '',...</td>\n",
       "      <td>+14342021336</td>\n",
       "      <td>(434) 202-1336</td>\n",
       "      <td>1750.712216</td>\n",
       "    </tr>\n",
       "    <tr>\n",
       "      <th>1</th>\n",
       "      <td>eI_GjUo-Ux8zq2xewUtXtA</td>\n",
       "      <td>brazos-tacos-charlottesville</td>\n",
       "      <td>Brazos Tacos</td>\n",
       "      <td>https://s3-media3.fl.yelpcdn.com/bphoto/pvv_pW...</td>\n",
       "      <td>False</td>\n",
       "      <td>https://www.yelp.com/biz/brazos-tacos-charlott...</td>\n",
       "      <td>404</td>\n",
       "      <td>[{'alias': 'tex-mex', 'title': 'Tex-Mex'}, {'a...</td>\n",
       "      <td>4.0</td>\n",
       "      <td>{'latitude': 38.0247182105962, 'longitude': -7...</td>\n",
       "      <td>[delivery]</td>\n",
       "      <td>$</td>\n",
       "      <td>{'address1': '925 2nd St SE', 'address2': '', ...</td>\n",
       "      <td>+14349841163</td>\n",
       "      <td>(434) 984-1163</td>\n",
       "      <td>2274.659108</td>\n",
       "    </tr>\n",
       "    <tr>\n",
       "      <th>2</th>\n",
       "      <td>a3h3Q6A50DVOmppznCaVmA</td>\n",
       "      <td>el-tako-nako-charlottesville</td>\n",
       "      <td>El Tako Nako</td>\n",
       "      <td>https://s3-media4.fl.yelpcdn.com/bphoto/DndjKO...</td>\n",
       "      <td>False</td>\n",
       "      <td>https://www.yelp.com/biz/el-tako-nako-charlott...</td>\n",
       "      <td>50</td>\n",
       "      <td>[{'alias': 'mexican', 'title': 'Mexican'}, {'a...</td>\n",
       "      <td>5.0</td>\n",
       "      <td>{'latitude': 38.065467, 'longitude': -78.495929}</td>\n",
       "      <td>[delivery]</td>\n",
       "      <td>$</td>\n",
       "      <td>{'address1': '2405 Hydraulic Rd', 'address2': ...</td>\n",
       "      <td>+14343058918</td>\n",
       "      <td>(434) 305-8918</td>\n",
       "      <td>2778.539862</td>\n",
       "    </tr>\n",
       "  </tbody>\n",
       "</table>\n",
       "</div>"
      ],
      "text/plain": [
       "                       id                                              alias  \\\n",
       "0  kViH5j4Z4S3OlTSwBEm-Nw  la-michoacana-taqueria-and-restaurant-charlott...   \n",
       "1  eI_GjUo-Ux8zq2xewUtXtA                       brazos-tacos-charlottesville   \n",
       "2  a3h3Q6A50DVOmppznCaVmA                       el-tako-nako-charlottesville   \n",
       "\n",
       "                                  name  \\\n",
       "0  La Michoacana Taqueria & Restaurant   \n",
       "1                         Brazos Tacos   \n",
       "2                         El Tako Nako   \n",
       "\n",
       "                                           image_url  is_closed  \\\n",
       "0  https://s3-media2.fl.yelpcdn.com/bphoto/edLG_l...      False   \n",
       "1  https://s3-media3.fl.yelpcdn.com/bphoto/pvv_pW...      False   \n",
       "2  https://s3-media4.fl.yelpcdn.com/bphoto/DndjKO...      False   \n",
       "\n",
       "                                                 url  review_count  \\\n",
       "0  https://www.yelp.com/biz/la-michoacana-taqueri...           240   \n",
       "1  https://www.yelp.com/biz/brazos-tacos-charlott...           404   \n",
       "2  https://www.yelp.com/biz/el-tako-nako-charlott...            50   \n",
       "\n",
       "                                          categories  rating  \\\n",
       "0         [{'alias': 'mexican', 'title': 'Mexican'}]     4.5   \n",
       "1  [{'alias': 'tex-mex', 'title': 'Tex-Mex'}, {'a...     4.0   \n",
       "2  [{'alias': 'mexican', 'title': 'Mexican'}, {'a...     5.0   \n",
       "\n",
       "                                         coordinates        transactions  \\\n",
       "0  {'latitude': 38.0317039489746, 'longitude': -7...  [pickup, delivery]   \n",
       "1  {'latitude': 38.0247182105962, 'longitude': -7...          [delivery]   \n",
       "2   {'latitude': 38.065467, 'longitude': -78.495929}          [delivery]   \n",
       "\n",
       "  price                                           location         phone  \\\n",
       "0     $  {'address1': '1138 E High St', 'address2': '',...  +14342021336   \n",
       "1     $  {'address1': '925 2nd St SE', 'address2': '', ...  +14349841163   \n",
       "2     $  {'address1': '2405 Hydraulic Rd', 'address2': ...  +14343058918   \n",
       "\n",
       "    display_phone     distance  \n",
       "0  (434) 202-1336  1750.712216  \n",
       "1  (434) 984-1163  2274.659108  \n",
       "2  (434) 305-8918  2778.539862  "
      ]
     },
     "metadata": {},
     "output_type": "display_data"
    },
    {
     "name": "stdout",
     "output_type": "stream",
     "text": [
      "\n",
      "\n",
      "\n",
      "<class 'pandas.core.frame.DataFrame'>\n",
      "RangeIndex: 111 entries, 0 to 110\n",
      "Data columns (total 16 columns):\n",
      " #   Column         Non-Null Count  Dtype  \n",
      "---  ------         --------------  -----  \n",
      " 0   id             111 non-null    object \n",
      " 1   alias          111 non-null    object \n",
      " 2   name           111 non-null    object \n",
      " 3   image_url      111 non-null    object \n",
      " 4   is_closed      111 non-null    bool   \n",
      " 5   url            111 non-null    object \n",
      " 6   review_count   111 non-null    int64  \n",
      " 7   categories     111 non-null    object \n",
      " 8   rating         111 non-null    float64\n",
      " 9   coordinates    111 non-null    object \n",
      " 10  transactions   111 non-null    object \n",
      " 11  price          84 non-null     object \n",
      " 12  location       111 non-null    object \n",
      " 13  phone          111 non-null    object \n",
      " 14  display_phone  111 non-null    object \n",
      " 15  distance       111 non-null    float64\n",
      "dtypes: bool(1), float64(2), int64(1), object(12)\n",
      "memory usage: 13.2+ KB\n"
     ]
    }
   ],
   "source": [
    "# Save to DF.\n",
    "final_df = pd.read_json(JSON_FILE)\n",
    "\n",
    "display(final_df.head(3))\n",
    "print(\"\\n\\n\")\n",
    "final_df.info()"
   ]
  },
  {
   "cell_type": "code",
   "execution_count": 22,
   "id": "57eaa09a",
   "metadata": {},
   "outputs": [
    {
     "data": {
      "text/plain": [
       "0"
      ]
     },
     "execution_count": 22,
     "metadata": {},
     "output_type": "execute_result"
    }
   ],
   "source": [
    "# Check for dupes\n",
    "final_df.duplicated(subset = 'id').sum()"
   ]
  },
  {
   "cell_type": "code",
   "execution_count": 23,
   "id": "dc282062",
   "metadata": {},
   "outputs": [],
   "source": [
    "# Save to compressed csv\n",
    "final_df.to_csv(f\"{FOLDER}results_final_{LOCATION.split(',')[0]}_{TERM}.csv.gz\",\n",
    "               compression='gzip', index = False)"
   ]
  }
 ],
 "metadata": {
  "kernelspec": {
   "display_name": "Python (dojo-env)",
   "language": "python",
   "name": "dojo-env"
  },
  "language_info": {
   "codemirror_mode": {
    "name": "ipython",
    "version": 3
   },
   "file_extension": ".py",
   "mimetype": "text/x-python",
   "name": "python",
   "nbconvert_exporter": "python",
   "pygments_lexer": "ipython3",
   "version": "3.7.12"
  },
  "toc": {
   "base_numbering": 1,
   "nav_menu": {},
   "number_sections": false,
   "sideBar": true,
   "skip_h1_title": false,
   "title_cell": "Table of Contents",
   "title_sidebar": "Contents",
   "toc_cell": false,
   "toc_position": {},
   "toc_section_display": true,
   "toc_window_display": true
  }
 },
 "nbformat": 4,
 "nbformat_minor": 5
}
