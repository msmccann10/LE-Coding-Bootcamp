{
 "cells": [
  {
   "cell_type": "markdown",
   "id": "ce7dc838",
   "metadata": {},
   "source": [
    "# LP Practice"
   ]
  },
  {
   "cell_type": "code",
   "execution_count": 39,
   "id": "d8f72b4a",
   "metadata": {},
   "outputs": [],
   "source": [
    "import json"
   ]
  },
  {
   "cell_type": "markdown",
   "id": "73bdbfd1",
   "metadata": {},
   "source": [
    "## What is the top level of the JSON data??"
   ]
  },
  {
   "cell_type": "code",
   "execution_count": 40,
   "id": "9d33b49c",
   "metadata": {},
   "outputs": [
    {
     "data": {
      "text/plain": [
       "dict"
      ]
     },
     "execution_count": 40,
     "metadata": {},
     "output_type": "execute_result"
    }
   ],
   "source": [
    "# Open the JSON file and display the first level of keys\n",
    "# Open API results WITH json module\n",
    "with open('data/example_yelp_results.json') as f:   #adjust for your path\n",
    "    json_file = json.load(f)\n",
    "    \n",
    "## What type is top-level of json?\n",
    "type(json_file)"
   ]
  },
  {
   "cell_type": "code",
   "execution_count": 41,
   "id": "1a839631",
   "metadata": {},
   "outputs": [
    {
     "data": {
      "text/plain": [
       "dict_keys(['businesses', 'total', 'region'])"
      ]
     },
     "execution_count": 41,
     "metadata": {},
     "output_type": "execute_result"
    }
   ],
   "source": [
    "# what are the keys?\n",
    "json_file.keys()"
   ]
  },
  {
   "cell_type": "markdown",
   "id": "fbbb8196",
   "metadata": {},
   "source": [
    "## What is stored in the second level??\n",
    "Three keys to explore... "
   ]
  },
  {
   "cell_type": "markdown",
   "id": "1bcf1654",
   "metadata": {},
   "source": [
    "### Region"
   ]
  },
  {
   "cell_type": "code",
   "execution_count": 42,
   "id": "6266d140",
   "metadata": {},
   "outputs": [
    {
     "data": {
      "text/plain": [
       "dict"
      ]
     },
     "execution_count": 42,
     "metadata": {},
     "output_type": "execute_result"
    }
   ],
   "source": [
    "# What type is region?\n",
    "type(json_file['region'])"
   ]
  },
  {
   "cell_type": "code",
   "execution_count": 43,
   "id": "5505b595",
   "metadata": {},
   "outputs": [
    {
     "data": {
      "text/plain": [
       "dict_keys(['center'])"
      ]
     },
     "execution_count": 43,
     "metadata": {},
     "output_type": "execute_result"
    }
   ],
   "source": [
    "# what keys are in region?\n",
    "json_file['region'].keys()"
   ]
  },
  {
   "cell_type": "code",
   "execution_count": 44,
   "id": "d9eb1e16",
   "metadata": {},
   "outputs": [
    {
     "data": {
      "text/plain": [
       "dict"
      ]
     },
     "execution_count": 44,
     "metadata": {},
     "output_type": "execute_result"
    }
   ],
   "source": [
    "# what type is center?\n",
    "type(json_file['region']['center'])"
   ]
  },
  {
   "cell_type": "code",
   "execution_count": 45,
   "id": "7e0f4812",
   "metadata": {},
   "outputs": [
    {
     "data": {
      "text/plain": [
       "dict_keys(['longitude', 'latitude'])"
      ]
     },
     "execution_count": 45,
     "metadata": {},
     "output_type": "execute_result"
    }
   ],
   "source": [
    "# What keys are in center?\n",
    "json_file['region']['center'].keys()"
   ]
  },
  {
   "cell_type": "code",
   "execution_count": 46,
   "id": "7d9f829f",
   "metadata": {},
   "outputs": [
    {
     "data": {
      "text/plain": [
       "{'longitude': -76.607666015625, 'latitude': 39.29617825404647}"
      ]
     },
     "execution_count": 46,
     "metadata": {},
     "output_type": "execute_result"
    }
   ],
   "source": [
    "# visualize the whole center dict...\n",
    "json_file['region']['center']"
   ]
  },
  {
   "cell_type": "markdown",
   "id": "9a49e722",
   "metadata": {},
   "source": [
    "looks like the center point of the yelp search was lat -76, long 39"
   ]
  },
  {
   "cell_type": "markdown",
   "id": "4a6726c9",
   "metadata": {},
   "source": [
    "### total"
   ]
  },
  {
   "cell_type": "code",
   "execution_count": 47,
   "id": "d4e19ff0",
   "metadata": {},
   "outputs": [
    {
     "data": {
      "text/plain": [
       "int"
      ]
     },
     "execution_count": 47,
     "metadata": {},
     "output_type": "execute_result"
    }
   ],
   "source": [
    "# What is stored in the total key\n",
    "type(json_file['total'])"
   ]
  },
  {
   "cell_type": "code",
   "execution_count": 48,
   "id": "d6bb1f02",
   "metadata": {},
   "outputs": [
    {
     "data": {
      "text/plain": [
       "435"
      ]
     },
     "execution_count": 48,
     "metadata": {},
     "output_type": "execute_result"
    }
   ],
   "source": [
    "# What is the value?\n",
    "json_file['total']"
   ]
  },
  {
   "cell_type": "markdown",
   "id": "092ebdfd",
   "metadata": {},
   "source": [
    "looks like there were 435 results for the yelp search"
   ]
  },
  {
   "cell_type": "markdown",
   "id": "f2e3ad39",
   "metadata": {},
   "source": [
    "### businesses"
   ]
  },
  {
   "cell_type": "code",
   "execution_count": 49,
   "id": "52f34c76",
   "metadata": {},
   "outputs": [
    {
     "data": {
      "text/plain": [
       "list"
      ]
     },
     "execution_count": 49,
     "metadata": {},
     "output_type": "execute_result"
    }
   ],
   "source": [
    "# What is in the businesses key?\n",
    "type(json_file['businesses'])"
   ]
  },
  {
   "cell_type": "code",
   "execution_count": 50,
   "id": "2745f3cb",
   "metadata": {},
   "outputs": [
    {
     "data": {
      "text/plain": [
       "20"
      ]
     },
     "execution_count": 50,
     "metadata": {},
     "output_type": "execute_result"
    }
   ],
   "source": [
    "# how long is the list of businesses\n",
    "len(json_file['businesses'])"
   ]
  },
  {
   "cell_type": "markdown",
   "id": "29210bd3",
   "metadata": {},
   "source": [
    "looks like there are 20 businesses stored in the list"
   ]
  },
  {
   "cell_type": "code",
   "execution_count": 51,
   "id": "ac6d4310",
   "metadata": {},
   "outputs": [
    {
     "data": {
      "text/plain": [
       "{'id': 'D9A33FM394q99o4QtK5YwA',\n",
       " 'alias': 'faidleys-seafood-baltimore-3',\n",
       " 'name': 'Faidleys Seafood',\n",
       " 'image_url': 'https://s3-media3.fl.yelpcdn.com/bphoto/OTjVDCVS7pGopH6GZcfjBA/o.jpg',\n",
       " 'is_closed': False,\n",
       " 'url': 'https://www.yelp.com/biz/faidleys-seafood-baltimore-3?adjust_creative=KJtcufKUS887p24u6rjVIQ&utm_campaign=yelp_api_v3&utm_medium=api_v3_business_search&utm_source=KJtcufKUS887p24u6rjVIQ',\n",
       " 'review_count': 1184,\n",
       " 'categories': [{'alias': 'seafood', 'title': 'Seafood'},\n",
       "  {'alias': 'beerbar', 'title': 'Beer Bar'}],\n",
       " 'rating': 4.0,\n",
       " 'coordinates': {'latitude': 39.291696, 'longitude': -76.62224},\n",
       " 'transactions': ['delivery'],\n",
       " 'price': '$$',\n",
       " 'location': {'address1': '203 N Paca St',\n",
       "  'address2': '',\n",
       "  'address3': '',\n",
       "  'city': 'Baltimore',\n",
       "  'zip_code': '21201',\n",
       "  'country': 'US',\n",
       "  'state': 'MD',\n",
       "  'display_address': ['203 N Paca St', 'Baltimore, MD 21201']},\n",
       " 'phone': '+14107274898',\n",
       " 'display_phone': '(410) 727-4898',\n",
       " 'distance': 1349.560720156645}"
      ]
     },
     "execution_count": 51,
     "metadata": {},
     "output_type": "execute_result"
    }
   ],
   "source": [
    "# What does the first entry of the list look like??\n",
    "json_file['businesses'][0]"
   ]
  },
  {
   "cell_type": "code",
   "execution_count": 52,
   "id": "cdbdf9e1",
   "metadata": {},
   "outputs": [
    {
     "data": {
      "text/plain": [
       "dict_keys(['id', 'alias', 'name', 'image_url', 'is_closed', 'url', 'review_count', 'categories', 'rating', 'coordinates', 'transactions', 'price', 'location', 'phone', 'display_phone', 'distance'])"
      ]
     },
     "execution_count": 52,
     "metadata": {},
     "output_type": "execute_result"
    }
   ],
   "source": [
    "# what are the keys for that entry???\n",
    "json_file['businesses'][0].keys()"
   ]
  },
  {
   "cell_type": "markdown",
   "id": "a0cf1576",
   "metadata": {},
   "source": [
    "## Identifying \"Records\"\n",
    "There is a name for a particular type of json format in which we have a list that contains dictionaries with matching keys for each item... these are called records. \n",
    "\n",
    "It looks like \"businesses\" key is a list of records... **records can be turned into DataFrames for easier inspection**"
   ]
  },
  {
   "cell_type": "code",
   "execution_count": 53,
   "id": "71ae5607",
   "metadata": {},
   "outputs": [
    {
     "data": {
      "text/html": [
       "<div>\n",
       "<style scoped>\n",
       "    .dataframe tbody tr th:only-of-type {\n",
       "        vertical-align: middle;\n",
       "    }\n",
       "\n",
       "    .dataframe tbody tr th {\n",
       "        vertical-align: top;\n",
       "    }\n",
       "\n",
       "    .dataframe thead th {\n",
       "        text-align: right;\n",
       "    }\n",
       "</style>\n",
       "<table border=\"1\" class=\"dataframe\">\n",
       "  <thead>\n",
       "    <tr style=\"text-align: right;\">\n",
       "      <th></th>\n",
       "      <th>id</th>\n",
       "      <th>alias</th>\n",
       "      <th>name</th>\n",
       "      <th>image_url</th>\n",
       "      <th>is_closed</th>\n",
       "      <th>url</th>\n",
       "      <th>review_count</th>\n",
       "      <th>categories</th>\n",
       "      <th>rating</th>\n",
       "      <th>coordinates</th>\n",
       "      <th>transactions</th>\n",
       "      <th>price</th>\n",
       "      <th>location</th>\n",
       "      <th>phone</th>\n",
       "      <th>display_phone</th>\n",
       "      <th>distance</th>\n",
       "    </tr>\n",
       "  </thead>\n",
       "  <tbody>\n",
       "    <tr>\n",
       "      <th>0</th>\n",
       "      <td>D9A33FM394q99o4QtK5YwA</td>\n",
       "      <td>faidleys-seafood-baltimore-3</td>\n",
       "      <td>Faidleys Seafood</td>\n",
       "      <td>https://s3-media3.fl.yelpcdn.com/bphoto/OTjVDC...</td>\n",
       "      <td>False</td>\n",
       "      <td>https://www.yelp.com/biz/faidleys-seafood-balt...</td>\n",
       "      <td>1184</td>\n",
       "      <td>[{'alias': 'seafood', 'title': 'Seafood'}, {'a...</td>\n",
       "      <td>4.0</td>\n",
       "      <td>{'latitude': 39.291696, 'longitude': -76.62224}</td>\n",
       "      <td>[delivery]</td>\n",
       "      <td>$$</td>\n",
       "      <td>{'address1': '203 N Paca St', 'address2': '', ...</td>\n",
       "      <td>+14107274898</td>\n",
       "      <td>(410) 727-4898</td>\n",
       "      <td>1349.560720</td>\n",
       "    </tr>\n",
       "    <tr>\n",
       "      <th>1</th>\n",
       "      <td>u65W69AhbjUlvJJBkEhGNQ</td>\n",
       "      <td>miss-shirleys-cafe-baltimore-9</td>\n",
       "      <td>Miss Shirley's Cafe</td>\n",
       "      <td>https://s3-media4.fl.yelpcdn.com/bphoto/9FsOyV...</td>\n",
       "      <td>False</td>\n",
       "      <td>https://www.yelp.com/biz/miss-shirleys-cafe-ba...</td>\n",
       "      <td>2919</td>\n",
       "      <td>[{'alias': 'breakfast_brunch', 'title': 'Break...</td>\n",
       "      <td>4.0</td>\n",
       "      <td>{'latitude': 39.2870995, 'longitude': -76.6053...</td>\n",
       "      <td>[delivery, pickup]</td>\n",
       "      <td>$$</td>\n",
       "      <td>{'address1': '750 E Pratt St', 'address2': '',...</td>\n",
       "      <td>+14105285373</td>\n",
       "      <td>(410) 528-5373</td>\n",
       "      <td>1028.736468</td>\n",
       "    </tr>\n",
       "    <tr>\n",
       "      <th>2</th>\n",
       "      <td>ieS_5zqxDHcWMCm8BKUYbg</td>\n",
       "      <td>thames-street-oyster-house-baltimore</td>\n",
       "      <td>Thames Street Oyster House</td>\n",
       "      <td>https://s3-media1.fl.yelpcdn.com/bphoto/9hGjo5...</td>\n",
       "      <td>False</td>\n",
       "      <td>https://www.yelp.com/biz/thames-street-oyster-...</td>\n",
       "      <td>2729</td>\n",
       "      <td>[{'alias': 'seafood', 'title': 'Seafood'}, {'a...</td>\n",
       "      <td>4.5</td>\n",
       "      <td>{'latitude': 39.28214, 'longitude': -76.59162}</td>\n",
       "      <td>[delivery]</td>\n",
       "      <td>$$$</td>\n",
       "      <td>{'address1': '1728 Thames St', 'address2': '',...</td>\n",
       "      <td>+14434497726</td>\n",
       "      <td>(443) 449-7726</td>\n",
       "      <td>2090.712792</td>\n",
       "    </tr>\n",
       "    <tr>\n",
       "      <th>3</th>\n",
       "      <td>6am8TZAFnvND52MOz-Yctg</td>\n",
       "      <td>mamas-on-the-half-shell-baltimore</td>\n",
       "      <td>Mama's On The Half Shell</td>\n",
       "      <td>https://s3-media2.fl.yelpcdn.com/bphoto/HWY8OF...</td>\n",
       "      <td>False</td>\n",
       "      <td>https://www.yelp.com/biz/mamas-on-the-half-she...</td>\n",
       "      <td>1279</td>\n",
       "      <td>[{'alias': 'bars', 'title': 'Bars'}, {'alias':...</td>\n",
       "      <td>4.0</td>\n",
       "      <td>{'latitude': 39.27986, 'longitude': -76.5752399}</td>\n",
       "      <td>[delivery, pickup]</td>\n",
       "      <td>$$</td>\n",
       "      <td>{'address1': '2901 Odonnell St', 'address2': '...</td>\n",
       "      <td>+14102763160</td>\n",
       "      <td>(410) 276-3160</td>\n",
       "      <td>3328.825798</td>\n",
       "    </tr>\n",
       "    <tr>\n",
       "      <th>4</th>\n",
       "      <td>ISn7WyGQaFpsVSRSh0NSqg</td>\n",
       "      <td>sal-and-sons-baltimore</td>\n",
       "      <td>Sal and Sons</td>\n",
       "      <td>https://s3-media3.fl.yelpcdn.com/bphoto/LmVL4j...</td>\n",
       "      <td>False</td>\n",
       "      <td>https://www.yelp.com/biz/sal-and-sons-baltimor...</td>\n",
       "      <td>153</td>\n",
       "      <td>[{'alias': 'seafood', 'title': 'Seafood'}, {'a...</td>\n",
       "      <td>4.5</td>\n",
       "      <td>{'latitude': 39.284, 'longitude': -76.59337}</td>\n",
       "      <td>[delivery]</td>\n",
       "      <td>$</td>\n",
       "      <td>{'address1': '1640 Aliceanna St', 'address2': ...</td>\n",
       "      <td>+14106751466</td>\n",
       "      <td>(410) 675-1466</td>\n",
       "      <td>1817.406978</td>\n",
       "    </tr>\n",
       "  </tbody>\n",
       "</table>\n",
       "</div>"
      ],
      "text/plain": [
       "                       id                                 alias  \\\n",
       "0  D9A33FM394q99o4QtK5YwA          faidleys-seafood-baltimore-3   \n",
       "1  u65W69AhbjUlvJJBkEhGNQ        miss-shirleys-cafe-baltimore-9   \n",
       "2  ieS_5zqxDHcWMCm8BKUYbg  thames-street-oyster-house-baltimore   \n",
       "3  6am8TZAFnvND52MOz-Yctg     mamas-on-the-half-shell-baltimore   \n",
       "4  ISn7WyGQaFpsVSRSh0NSqg                sal-and-sons-baltimore   \n",
       "\n",
       "                         name  \\\n",
       "0            Faidleys Seafood   \n",
       "1         Miss Shirley's Cafe   \n",
       "2  Thames Street Oyster House   \n",
       "3    Mama's On The Half Shell   \n",
       "4                Sal and Sons   \n",
       "\n",
       "                                           image_url  is_closed  \\\n",
       "0  https://s3-media3.fl.yelpcdn.com/bphoto/OTjVDC...      False   \n",
       "1  https://s3-media4.fl.yelpcdn.com/bphoto/9FsOyV...      False   \n",
       "2  https://s3-media1.fl.yelpcdn.com/bphoto/9hGjo5...      False   \n",
       "3  https://s3-media2.fl.yelpcdn.com/bphoto/HWY8OF...      False   \n",
       "4  https://s3-media3.fl.yelpcdn.com/bphoto/LmVL4j...      False   \n",
       "\n",
       "                                                 url  review_count  \\\n",
       "0  https://www.yelp.com/biz/faidleys-seafood-balt...          1184   \n",
       "1  https://www.yelp.com/biz/miss-shirleys-cafe-ba...          2919   \n",
       "2  https://www.yelp.com/biz/thames-street-oyster-...          2729   \n",
       "3  https://www.yelp.com/biz/mamas-on-the-half-she...          1279   \n",
       "4  https://www.yelp.com/biz/sal-and-sons-baltimor...           153   \n",
       "\n",
       "                                          categories  rating  \\\n",
       "0  [{'alias': 'seafood', 'title': 'Seafood'}, {'a...     4.0   \n",
       "1  [{'alias': 'breakfast_brunch', 'title': 'Break...     4.0   \n",
       "2  [{'alias': 'seafood', 'title': 'Seafood'}, {'a...     4.5   \n",
       "3  [{'alias': 'bars', 'title': 'Bars'}, {'alias':...     4.0   \n",
       "4  [{'alias': 'seafood', 'title': 'Seafood'}, {'a...     4.5   \n",
       "\n",
       "                                         coordinates        transactions  \\\n",
       "0    {'latitude': 39.291696, 'longitude': -76.62224}          [delivery]   \n",
       "1  {'latitude': 39.2870995, 'longitude': -76.6053...  [delivery, pickup]   \n",
       "2     {'latitude': 39.28214, 'longitude': -76.59162}          [delivery]   \n",
       "3   {'latitude': 39.27986, 'longitude': -76.5752399}  [delivery, pickup]   \n",
       "4       {'latitude': 39.284, 'longitude': -76.59337}          [delivery]   \n",
       "\n",
       "  price                                           location         phone  \\\n",
       "0    $$  {'address1': '203 N Paca St', 'address2': '', ...  +14107274898   \n",
       "1    $$  {'address1': '750 E Pratt St', 'address2': '',...  +14105285373   \n",
       "2   $$$  {'address1': '1728 Thames St', 'address2': '',...  +14434497726   \n",
       "3    $$  {'address1': '2901 Odonnell St', 'address2': '...  +14102763160   \n",
       "4     $  {'address1': '1640 Aliceanna St', 'address2': ...  +14106751466   \n",
       "\n",
       "    display_phone     distance  \n",
       "0  (410) 727-4898  1349.560720  \n",
       "1  (410) 528-5373  1028.736468  \n",
       "2  (443) 449-7726  2090.712792  \n",
       "3  (410) 276-3160  3328.825798  \n",
       "4  (410) 675-1466  1817.406978  "
      ]
     },
     "execution_count": 53,
     "metadata": {},
     "output_type": "execute_result"
    }
   ],
   "source": [
    "import pandas as pd\n",
    "df_businesses = pd.DataFrame(json_file['businesses'])\n",
    "df_businesses.head()"
   ]
  },
  {
   "cell_type": "code",
   "execution_count": 54,
   "id": "0bfd0178",
   "metadata": {
    "scrolled": true
   },
   "outputs": [
    {
     "data": {
      "text/html": [
       "<div>\n",
       "<style scoped>\n",
       "    .dataframe tbody tr th:only-of-type {\n",
       "        vertical-align: middle;\n",
       "    }\n",
       "\n",
       "    .dataframe tbody tr th {\n",
       "        vertical-align: top;\n",
       "    }\n",
       "\n",
       "    .dataframe thead th {\n",
       "        text-align: right;\n",
       "    }\n",
       "</style>\n",
       "<table border=\"1\" class=\"dataframe\">\n",
       "  <thead>\n",
       "    <tr style=\"text-align: right;\">\n",
       "      <th></th>\n",
       "      <th>categories</th>\n",
       "      <th>coordinates</th>\n",
       "      <th>location</th>\n",
       "    </tr>\n",
       "  </thead>\n",
       "  <tbody>\n",
       "    <tr>\n",
       "      <th>0</th>\n",
       "      <td>[{'alias': 'seafood', 'title': 'Seafood'}, {'a...</td>\n",
       "      <td>{'latitude': 39.291696, 'longitude': -76.62224}</td>\n",
       "      <td>{'address1': '203 N Paca St', 'address2': '', ...</td>\n",
       "    </tr>\n",
       "    <tr>\n",
       "      <th>1</th>\n",
       "      <td>[{'alias': 'breakfast_brunch', 'title': 'Break...</td>\n",
       "      <td>{'latitude': 39.2870995, 'longitude': -76.6053...</td>\n",
       "      <td>{'address1': '750 E Pratt St', 'address2': '',...</td>\n",
       "    </tr>\n",
       "    <tr>\n",
       "      <th>2</th>\n",
       "      <td>[{'alias': 'seafood', 'title': 'Seafood'}, {'a...</td>\n",
       "      <td>{'latitude': 39.28214, 'longitude': -76.59162}</td>\n",
       "      <td>{'address1': '1728 Thames St', 'address2': '',...</td>\n",
       "    </tr>\n",
       "  </tbody>\n",
       "</table>\n",
       "</div>"
      ],
      "text/plain": [
       "                                          categories  \\\n",
       "0  [{'alias': 'seafood', 'title': 'Seafood'}, {'a...   \n",
       "1  [{'alias': 'breakfast_brunch', 'title': 'Break...   \n",
       "2  [{'alias': 'seafood', 'title': 'Seafood'}, {'a...   \n",
       "\n",
       "                                         coordinates  \\\n",
       "0    {'latitude': 39.291696, 'longitude': -76.62224}   \n",
       "1  {'latitude': 39.2870995, 'longitude': -76.6053...   \n",
       "2     {'latitude': 39.28214, 'longitude': -76.59162}   \n",
       "\n",
       "                                            location  \n",
       "0  {'address1': '203 N Paca St', 'address2': '', ...  \n",
       "1  {'address1': '750 E Pratt St', 'address2': '',...  \n",
       "2  {'address1': '1728 Thames St', 'address2': '',...  "
      ]
     },
     "execution_count": 54,
     "metadata": {},
     "output_type": "execute_result"
    }
   ],
   "source": [
    "# Note this is not perfect... some columns are still off\n",
    "df_businesses[['categories', 'coordinates', 'location']].head(3)"
   ]
  },
  {
   "cell_type": "code",
   "execution_count": 55,
   "id": "e24cd082",
   "metadata": {},
   "outputs": [
    {
     "data": {
      "text/plain": [
       "dict_keys(['client-id', 'api-key'])"
      ]
     },
     "execution_count": 55,
     "metadata": {},
     "output_type": "execute_result"
    }
   ],
   "source": [
    "filepath = \"D:/Users/Mike PC/Mike PC/.secret/yelp_api.json\"\n",
    "\n",
    "with open(filepath) as f:\n",
    "    login = json.load(f)\n",
    "login.keys()"
   ]
  },
  {
   "cell_type": "code",
   "execution_count": 56,
   "id": "85efbe77",
   "metadata": {},
   "outputs": [],
   "source": [
    "from yelpapi import YelpAPI\n",
    "yelp_api = YelpAPI(login['api-key'], timeout_s=5.0)"
   ]
  },
  {
   "cell_type": "code",
   "execution_count": 57,
   "id": "ef5aa09a",
   "metadata": {},
   "outputs": [
    {
     "data": {
      "text/plain": [
       "dict_keys(['businesses', 'total', 'region'])"
      ]
     },
     "execution_count": 57,
     "metadata": {},
     "output_type": "execute_result"
    }
   ],
   "source": [
    "results = yelp_api.search_query(location='baltimore, MD,21202',\n",
    "                               term = \"Crab Cakes\")\n",
    "\n",
    "type(results)\n",
    "results.keys()"
   ]
  },
  {
   "cell_type": "code",
   "execution_count": 58,
   "id": "22728acd",
   "metadata": {},
   "outputs": [
    {
     "data": {
      "text/plain": [
       "435"
      ]
     },
     "execution_count": 58,
     "metadata": {},
     "output_type": "execute_result"
    }
   ],
   "source": [
    "results['total']"
   ]
  },
  {
   "cell_type": "code",
   "execution_count": 59,
   "id": "e2c9ae17",
   "metadata": {},
   "outputs": [
    {
     "data": {
      "text/html": [
       "<div>\n",
       "<style scoped>\n",
       "    .dataframe tbody tr th:only-of-type {\n",
       "        vertical-align: middle;\n",
       "    }\n",
       "\n",
       "    .dataframe tbody tr th {\n",
       "        vertical-align: top;\n",
       "    }\n",
       "\n",
       "    .dataframe thead th {\n",
       "        text-align: right;\n",
       "    }\n",
       "</style>\n",
       "<table border=\"1\" class=\"dataframe\">\n",
       "  <thead>\n",
       "    <tr style=\"text-align: right;\">\n",
       "      <th></th>\n",
       "      <th>id</th>\n",
       "      <th>alias</th>\n",
       "      <th>name</th>\n",
       "      <th>image_url</th>\n",
       "      <th>is_closed</th>\n",
       "      <th>url</th>\n",
       "      <th>review_count</th>\n",
       "      <th>categories</th>\n",
       "      <th>rating</th>\n",
       "      <th>coordinates</th>\n",
       "      <th>transactions</th>\n",
       "      <th>price</th>\n",
       "      <th>location</th>\n",
       "      <th>phone</th>\n",
       "      <th>display_phone</th>\n",
       "      <th>distance</th>\n",
       "    </tr>\n",
       "  </thead>\n",
       "  <tbody>\n",
       "    <tr>\n",
       "      <th>0</th>\n",
       "      <td>D9A33FM394q99o4QtK5YwA</td>\n",
       "      <td>faidleys-seafood-baltimore-3</td>\n",
       "      <td>Faidleys Seafood</td>\n",
       "      <td>https://s3-media3.fl.yelpcdn.com/bphoto/OTjVDC...</td>\n",
       "      <td>False</td>\n",
       "      <td>https://www.yelp.com/biz/faidleys-seafood-balt...</td>\n",
       "      <td>1189</td>\n",
       "      <td>[{'alias': 'seafood', 'title': 'Seafood'}, {'a...</td>\n",
       "      <td>4.0</td>\n",
       "      <td>{'latitude': 39.291696, 'longitude': -76.62224}</td>\n",
       "      <td>[delivery]</td>\n",
       "      <td>$$</td>\n",
       "      <td>{'address1': '203 N Paca St', 'address2': '', ...</td>\n",
       "      <td>+14107274898</td>\n",
       "      <td>(410) 727-4898</td>\n",
       "      <td>1349.560720</td>\n",
       "    </tr>\n",
       "    <tr>\n",
       "      <th>1</th>\n",
       "      <td>ieS_5zqxDHcWMCm8BKUYbg</td>\n",
       "      <td>thames-street-oyster-house-baltimore</td>\n",
       "      <td>Thames Street Oyster House</td>\n",
       "      <td>https://s3-media1.fl.yelpcdn.com/bphoto/9hGjo5...</td>\n",
       "      <td>False</td>\n",
       "      <td>https://www.yelp.com/biz/thames-street-oyster-...</td>\n",
       "      <td>2734</td>\n",
       "      <td>[{'alias': 'seafood', 'title': 'Seafood'}, {'a...</td>\n",
       "      <td>4.5</td>\n",
       "      <td>{'latitude': 39.28214, 'longitude': -76.59162}</td>\n",
       "      <td>[delivery]</td>\n",
       "      <td>$$$</td>\n",
       "      <td>{'address1': '1728 Thames St', 'address2': '',...</td>\n",
       "      <td>+14434497726</td>\n",
       "      <td>(443) 449-7726</td>\n",
       "      <td>2090.712792</td>\n",
       "    </tr>\n",
       "  </tbody>\n",
       "</table>\n",
       "</div>"
      ],
      "text/plain": [
       "                       id                                 alias  \\\n",
       "0  D9A33FM394q99o4QtK5YwA          faidleys-seafood-baltimore-3   \n",
       "1  ieS_5zqxDHcWMCm8BKUYbg  thames-street-oyster-house-baltimore   \n",
       "\n",
       "                         name  \\\n",
       "0            Faidleys Seafood   \n",
       "1  Thames Street Oyster House   \n",
       "\n",
       "                                           image_url  is_closed  \\\n",
       "0  https://s3-media3.fl.yelpcdn.com/bphoto/OTjVDC...      False   \n",
       "1  https://s3-media1.fl.yelpcdn.com/bphoto/9hGjo5...      False   \n",
       "\n",
       "                                                 url  review_count  \\\n",
       "0  https://www.yelp.com/biz/faidleys-seafood-balt...          1189   \n",
       "1  https://www.yelp.com/biz/thames-street-oyster-...          2734   \n",
       "\n",
       "                                          categories  rating  \\\n",
       "0  [{'alias': 'seafood', 'title': 'Seafood'}, {'a...     4.0   \n",
       "1  [{'alias': 'seafood', 'title': 'Seafood'}, {'a...     4.5   \n",
       "\n",
       "                                       coordinates transactions price  \\\n",
       "0  {'latitude': 39.291696, 'longitude': -76.62224}   [delivery]    $$   \n",
       "1   {'latitude': 39.28214, 'longitude': -76.59162}   [delivery]   $$$   \n",
       "\n",
       "                                            location         phone  \\\n",
       "0  {'address1': '203 N Paca St', 'address2': '', ...  +14107274898   \n",
       "1  {'address1': '1728 Thames St', 'address2': '',...  +14434497726   \n",
       "\n",
       "    display_phone     distance  \n",
       "0  (410) 727-4898  1349.560720  \n",
       "1  (443) 449-7726  2090.712792  "
      ]
     },
     "execution_count": 59,
     "metadata": {},
     "output_type": "execute_result"
    }
   ],
   "source": [
    "import pandas as pd\n",
    "biz = pd.DataFrame(results['businesses'])\n",
    "biz.head(2)"
   ]
  },
  {
   "cell_type": "markdown",
   "id": "3e9eba64",
   "metadata": {},
   "source": [
    "# Pagination vs Offset\n",
    "\n",
    "You might notice that there are 437 results but only 20 businesses in our list... that is because yelp only shows 20 businesses per 'page'. To get the next 'page' we have to run another call with offset..."
   ]
  },
  {
   "cell_type": "code",
   "execution_count": 60,
   "id": "080cf95c",
   "metadata": {},
   "outputs": [],
   "source": [
    "results = yelp_api.search_query(location = 'Baltimore, MD,21202',\n",
    "                               term = 'Crab Cakes',\n",
    "                               offset = 20)\n"
   ]
  },
  {
   "cell_type": "code",
   "execution_count": 61,
   "id": "cec64cee",
   "metadata": {
    "scrolled": true
   },
   "outputs": [
    {
     "data": {
      "text/html": [
       "<div>\n",
       "<style scoped>\n",
       "    .dataframe tbody tr th:only-of-type {\n",
       "        vertical-align: middle;\n",
       "    }\n",
       "\n",
       "    .dataframe tbody tr th {\n",
       "        vertical-align: top;\n",
       "    }\n",
       "\n",
       "    .dataframe thead th {\n",
       "        text-align: right;\n",
       "    }\n",
       "</style>\n",
       "<table border=\"1\" class=\"dataframe\">\n",
       "  <thead>\n",
       "    <tr style=\"text-align: right;\">\n",
       "      <th></th>\n",
       "      <th>id</th>\n",
       "      <th>alias</th>\n",
       "      <th>name</th>\n",
       "      <th>image_url</th>\n",
       "      <th>is_closed</th>\n",
       "      <th>url</th>\n",
       "      <th>review_count</th>\n",
       "      <th>categories</th>\n",
       "      <th>rating</th>\n",
       "      <th>coordinates</th>\n",
       "      <th>transactions</th>\n",
       "      <th>price</th>\n",
       "      <th>location</th>\n",
       "      <th>phone</th>\n",
       "      <th>display_phone</th>\n",
       "      <th>distance</th>\n",
       "    </tr>\n",
       "  </thead>\n",
       "  <tbody>\n",
       "    <tr>\n",
       "      <th>0</th>\n",
       "      <td>n3bY9l_uDccV9X2TxH4rrg</td>\n",
       "      <td>baltimore-seafood-baltimore</td>\n",
       "      <td>Baltimore Seafood</td>\n",
       "      <td>https://s3-media3.fl.yelpcdn.com/bphoto/IOF6mr...</td>\n",
       "      <td>False</td>\n",
       "      <td>https://www.yelp.com/biz/baltimore-seafood-bal...</td>\n",
       "      <td>200</td>\n",
       "      <td>[{'alias': 'seafood', 'title': 'Seafood'}]</td>\n",
       "      <td>4.5</td>\n",
       "      <td>{'latitude': 39.28284, 'longitude': -76.58375}</td>\n",
       "      <td>[pickup, delivery]</td>\n",
       "      <td>$$</td>\n",
       "      <td>{'address1': '2324 E Boston Sreet', 'address2'...</td>\n",
       "      <td>+14106245166</td>\n",
       "      <td>(410) 624-5166</td>\n",
       "      <td>2544.231682</td>\n",
       "    </tr>\n",
       "    <tr>\n",
       "      <th>1</th>\n",
       "      <td>VLGdENTqjFJuCjg1SbW7_g</td>\n",
       "      <td>nicks-fish-house-baltimore</td>\n",
       "      <td>Nicks Fish House</td>\n",
       "      <td>https://s3-media3.fl.yelpcdn.com/bphoto/xMvMJ9...</td>\n",
       "      <td>False</td>\n",
       "      <td>https://www.yelp.com/biz/nicks-fish-house-balt...</td>\n",
       "      <td>840</td>\n",
       "      <td>[{'alias': 'seafood', 'title': 'Seafood'}]</td>\n",
       "      <td>4.0</td>\n",
       "      <td>{'latitude': 39.26036, 'longitude': -76.61421}</td>\n",
       "      <td>[delivery]</td>\n",
       "      <td>$$</td>\n",
       "      <td>{'address1': '2600 Insulator Dr', 'address2': ...</td>\n",
       "      <td>+14103474123</td>\n",
       "      <td>(410) 347-4123</td>\n",
       "      <td>3984.496569</td>\n",
       "    </tr>\n",
       "  </tbody>\n",
       "</table>\n",
       "</div>"
      ],
      "text/plain": [
       "                       id                        alias               name  \\\n",
       "0  n3bY9l_uDccV9X2TxH4rrg  baltimore-seafood-baltimore  Baltimore Seafood   \n",
       "1  VLGdENTqjFJuCjg1SbW7_g   nicks-fish-house-baltimore   Nicks Fish House   \n",
       "\n",
       "                                           image_url  is_closed  \\\n",
       "0  https://s3-media3.fl.yelpcdn.com/bphoto/IOF6mr...      False   \n",
       "1  https://s3-media3.fl.yelpcdn.com/bphoto/xMvMJ9...      False   \n",
       "\n",
       "                                                 url  review_count  \\\n",
       "0  https://www.yelp.com/biz/baltimore-seafood-bal...           200   \n",
       "1  https://www.yelp.com/biz/nicks-fish-house-balt...           840   \n",
       "\n",
       "                                   categories  rating  \\\n",
       "0  [{'alias': 'seafood', 'title': 'Seafood'}]     4.5   \n",
       "1  [{'alias': 'seafood', 'title': 'Seafood'}]     4.0   \n",
       "\n",
       "                                      coordinates        transactions price  \\\n",
       "0  {'latitude': 39.28284, 'longitude': -76.58375}  [pickup, delivery]    $$   \n",
       "1  {'latitude': 39.26036, 'longitude': -76.61421}          [delivery]    $$   \n",
       "\n",
       "                                            location         phone  \\\n",
       "0  {'address1': '2324 E Boston Sreet', 'address2'...  +14106245166   \n",
       "1  {'address1': '2600 Insulator Dr', 'address2': ...  +14103474123   \n",
       "\n",
       "    display_phone     distance  \n",
       "0  (410) 624-5166  2544.231682  \n",
       "1  (410) 347-4123  3984.496569  "
      ]
     },
     "execution_count": 61,
     "metadata": {},
     "output_type": "execute_result"
    }
   ],
   "source": [
    "biz20 = pd.DataFrame(results['businesses'])\n",
    "biz20.head(2)"
   ]
  },
  {
   "cell_type": "code",
   "execution_count": 62,
   "id": "d74a5784",
   "metadata": {},
   "outputs": [
    {
     "data": {
      "text/html": [
       "<div>\n",
       "<style scoped>\n",
       "    .dataframe tbody tr th:only-of-type {\n",
       "        vertical-align: middle;\n",
       "    }\n",
       "\n",
       "    .dataframe tbody tr th {\n",
       "        vertical-align: top;\n",
       "    }\n",
       "\n",
       "    .dataframe thead th {\n",
       "        text-align: right;\n",
       "    }\n",
       "</style>\n",
       "<table border=\"1\" class=\"dataframe\">\n",
       "  <thead>\n",
       "    <tr style=\"text-align: right;\">\n",
       "      <th></th>\n",
       "      <th>id</th>\n",
       "      <th>alias</th>\n",
       "      <th>name</th>\n",
       "      <th>image_url</th>\n",
       "      <th>is_closed</th>\n",
       "      <th>url</th>\n",
       "      <th>review_count</th>\n",
       "      <th>categories</th>\n",
       "      <th>rating</th>\n",
       "      <th>coordinates</th>\n",
       "      <th>transactions</th>\n",
       "      <th>price</th>\n",
       "      <th>location</th>\n",
       "      <th>phone</th>\n",
       "      <th>display_phone</th>\n",
       "      <th>distance</th>\n",
       "    </tr>\n",
       "  </thead>\n",
       "  <tbody>\n",
       "    <tr>\n",
       "      <th>0</th>\n",
       "      <td>D9A33FM394q99o4QtK5YwA</td>\n",
       "      <td>faidleys-seafood-baltimore-3</td>\n",
       "      <td>Faidleys Seafood</td>\n",
       "      <td>https://s3-media3.fl.yelpcdn.com/bphoto/OTjVDC...</td>\n",
       "      <td>False</td>\n",
       "      <td>https://www.yelp.com/biz/faidleys-seafood-balt...</td>\n",
       "      <td>1189</td>\n",
       "      <td>[{'alias': 'seafood', 'title': 'Seafood'}, {'a...</td>\n",
       "      <td>4.0</td>\n",
       "      <td>{'latitude': 39.291696, 'longitude': -76.62224}</td>\n",
       "      <td>[delivery]</td>\n",
       "      <td>$$</td>\n",
       "      <td>{'address1': '203 N Paca St', 'address2': '', ...</td>\n",
       "      <td>+14107274898</td>\n",
       "      <td>(410) 727-4898</td>\n",
       "      <td>1349.560720</td>\n",
       "    </tr>\n",
       "    <tr>\n",
       "      <th>1</th>\n",
       "      <td>ieS_5zqxDHcWMCm8BKUYbg</td>\n",
       "      <td>thames-street-oyster-house-baltimore</td>\n",
       "      <td>Thames Street Oyster House</td>\n",
       "      <td>https://s3-media1.fl.yelpcdn.com/bphoto/9hGjo5...</td>\n",
       "      <td>False</td>\n",
       "      <td>https://www.yelp.com/biz/thames-street-oyster-...</td>\n",
       "      <td>2734</td>\n",
       "      <td>[{'alias': 'seafood', 'title': 'Seafood'}, {'a...</td>\n",
       "      <td>4.5</td>\n",
       "      <td>{'latitude': 39.28214, 'longitude': -76.59162}</td>\n",
       "      <td>[delivery]</td>\n",
       "      <td>$$$</td>\n",
       "      <td>{'address1': '1728 Thames St', 'address2': '',...</td>\n",
       "      <td>+14434497726</td>\n",
       "      <td>(443) 449-7726</td>\n",
       "      <td>2090.712792</td>\n",
       "    </tr>\n",
       "    <tr>\n",
       "      <th>2</th>\n",
       "      <td>u65W69AhbjUlvJJBkEhGNQ</td>\n",
       "      <td>miss-shirleys-cafe-baltimore-9</td>\n",
       "      <td>Miss Shirley's Cafe</td>\n",
       "      <td>https://s3-media4.fl.yelpcdn.com/bphoto/9FsOyV...</td>\n",
       "      <td>False</td>\n",
       "      <td>https://www.yelp.com/biz/miss-shirleys-cafe-ba...</td>\n",
       "      <td>2939</td>\n",
       "      <td>[{'alias': 'breakfast_brunch', 'title': 'Break...</td>\n",
       "      <td>4.0</td>\n",
       "      <td>{'latitude': 39.2870995, 'longitude': -76.6053...</td>\n",
       "      <td>[delivery, pickup]</td>\n",
       "      <td>$$</td>\n",
       "      <td>{'address1': '750 E Pratt St', 'address2': '',...</td>\n",
       "      <td>+14105285373</td>\n",
       "      <td>(410) 528-5373</td>\n",
       "      <td>1028.736468</td>\n",
       "    </tr>\n",
       "  </tbody>\n",
       "</table>\n",
       "</div>"
      ],
      "text/plain": [
       "                       id                                 alias  \\\n",
       "0  D9A33FM394q99o4QtK5YwA          faidleys-seafood-baltimore-3   \n",
       "1  ieS_5zqxDHcWMCm8BKUYbg  thames-street-oyster-house-baltimore   \n",
       "2  u65W69AhbjUlvJJBkEhGNQ        miss-shirleys-cafe-baltimore-9   \n",
       "\n",
       "                         name  \\\n",
       "0            Faidleys Seafood   \n",
       "1  Thames Street Oyster House   \n",
       "2         Miss Shirley's Cafe   \n",
       "\n",
       "                                           image_url  is_closed  \\\n",
       "0  https://s3-media3.fl.yelpcdn.com/bphoto/OTjVDC...      False   \n",
       "1  https://s3-media1.fl.yelpcdn.com/bphoto/9hGjo5...      False   \n",
       "2  https://s3-media4.fl.yelpcdn.com/bphoto/9FsOyV...      False   \n",
       "\n",
       "                                                 url  review_count  \\\n",
       "0  https://www.yelp.com/biz/faidleys-seafood-balt...          1189   \n",
       "1  https://www.yelp.com/biz/thames-street-oyster-...          2734   \n",
       "2  https://www.yelp.com/biz/miss-shirleys-cafe-ba...          2939   \n",
       "\n",
       "                                          categories  rating  \\\n",
       "0  [{'alias': 'seafood', 'title': 'Seafood'}, {'a...     4.0   \n",
       "1  [{'alias': 'seafood', 'title': 'Seafood'}, {'a...     4.5   \n",
       "2  [{'alias': 'breakfast_brunch', 'title': 'Break...     4.0   \n",
       "\n",
       "                                         coordinates        transactions  \\\n",
       "0    {'latitude': 39.291696, 'longitude': -76.62224}          [delivery]   \n",
       "1     {'latitude': 39.28214, 'longitude': -76.59162}          [delivery]   \n",
       "2  {'latitude': 39.2870995, 'longitude': -76.6053...  [delivery, pickup]   \n",
       "\n",
       "  price                                           location         phone  \\\n",
       "0    $$  {'address1': '203 N Paca St', 'address2': '', ...  +14107274898   \n",
       "1   $$$  {'address1': '1728 Thames St', 'address2': '',...  +14434497726   \n",
       "2    $$  {'address1': '750 E Pratt St', 'address2': '',...  +14105285373   \n",
       "\n",
       "    display_phone     distance  \n",
       "0  (410) 727-4898  1349.560720  \n",
       "1  (443) 449-7726  2090.712792  \n",
       "2  (410) 528-5373  1028.736468  "
      ]
     },
     "metadata": {},
     "output_type": "display_data"
    },
    {
     "data": {
      "text/html": [
       "<div>\n",
       "<style scoped>\n",
       "    .dataframe tbody tr th:only-of-type {\n",
       "        vertical-align: middle;\n",
       "    }\n",
       "\n",
       "    .dataframe tbody tr th {\n",
       "        vertical-align: top;\n",
       "    }\n",
       "\n",
       "    .dataframe thead th {\n",
       "        text-align: right;\n",
       "    }\n",
       "</style>\n",
       "<table border=\"1\" class=\"dataframe\">\n",
       "  <thead>\n",
       "    <tr style=\"text-align: right;\">\n",
       "      <th></th>\n",
       "      <th>id</th>\n",
       "      <th>alias</th>\n",
       "      <th>name</th>\n",
       "      <th>image_url</th>\n",
       "      <th>is_closed</th>\n",
       "      <th>url</th>\n",
       "      <th>review_count</th>\n",
       "      <th>categories</th>\n",
       "      <th>rating</th>\n",
       "      <th>coordinates</th>\n",
       "      <th>transactions</th>\n",
       "      <th>price</th>\n",
       "      <th>location</th>\n",
       "      <th>phone</th>\n",
       "      <th>display_phone</th>\n",
       "      <th>distance</th>\n",
       "    </tr>\n",
       "  </thead>\n",
       "  <tbody>\n",
       "    <tr>\n",
       "      <th>37</th>\n",
       "      <td>uP4pCpjzUGMDIRzMtHDCkg</td>\n",
       "      <td>old-bay-seafood-baltimore</td>\n",
       "      <td>Old Bay Seafood</td>\n",
       "      <td>https://s3-media1.fl.yelpcdn.com/bphoto/ofor5U...</td>\n",
       "      <td>False</td>\n",
       "      <td>https://www.yelp.com/biz/old-bay-seafood-balti...</td>\n",
       "      <td>5</td>\n",
       "      <td>[{'alias': 'seafood', 'title': 'Seafood'}]</td>\n",
       "      <td>4.5</td>\n",
       "      <td>{'latitude': 39.2839579930058, 'longitude': -7...</td>\n",
       "      <td>[]</td>\n",
       "      <td>$$</td>\n",
       "      <td>{'address1': '333 W Camden St', 'address2': ''...</td>\n",
       "      <td>+18888482473</td>\n",
       "      <td>(888) 848-2473</td>\n",
       "      <td>1807.250816</td>\n",
       "    </tr>\n",
       "    <tr>\n",
       "      <th>38</th>\n",
       "      <td>pJuoa35eDPRXLf7kUbpMTg</td>\n",
       "      <td>the-choptank-baltimore</td>\n",
       "      <td>The Choptank</td>\n",
       "      <td>https://s3-media3.fl.yelpcdn.com/bphoto/0Mdtr7...</td>\n",
       "      <td>False</td>\n",
       "      <td>https://www.yelp.com/biz/the-choptank-baltimor...</td>\n",
       "      <td>200</td>\n",
       "      <td>[{'alias': 'seafood', 'title': 'Seafood'}]</td>\n",
       "      <td>4.0</td>\n",
       "      <td>{'latitude': 39.283338, 'longitude': -76.593321}</td>\n",
       "      <td>[]</td>\n",
       "      <td>NaN</td>\n",
       "      <td>{'address1': '1641 Aliceanna St', 'address2': ...</td>\n",
       "      <td>+14437073364</td>\n",
       "      <td>(443) 707-3364</td>\n",
       "      <td>1891.591150</td>\n",
       "    </tr>\n",
       "    <tr>\n",
       "      <th>39</th>\n",
       "      <td>6ulR8s_SK3X0wYVQNZ0DSQ</td>\n",
       "      <td>next-phaze-cafe-baltimore</td>\n",
       "      <td>Next Phaze Cafe</td>\n",
       "      <td>https://s3-media3.fl.yelpcdn.com/bphoto/Z9Z5VT...</td>\n",
       "      <td>False</td>\n",
       "      <td>https://www.yelp.com/biz/next-phaze-cafe-balti...</td>\n",
       "      <td>84</td>\n",
       "      <td>[{'alias': 'cafes', 'title': 'Cafes'}, {'alias...</td>\n",
       "      <td>4.0</td>\n",
       "      <td>{'latitude': 39.2913148, 'longitude': -76.6130...</td>\n",
       "      <td>[pickup, delivery]</td>\n",
       "      <td>$$</td>\n",
       "      <td>{'address1': '112 E Lexington St', 'address2':...</td>\n",
       "      <td>+14104493232</td>\n",
       "      <td>(410) 449-3232</td>\n",
       "      <td>710.122481</td>\n",
       "    </tr>\n",
       "  </tbody>\n",
       "</table>\n",
       "</div>"
      ],
      "text/plain": [
       "                        id                      alias             name  \\\n",
       "37  uP4pCpjzUGMDIRzMtHDCkg  old-bay-seafood-baltimore  Old Bay Seafood   \n",
       "38  pJuoa35eDPRXLf7kUbpMTg     the-choptank-baltimore     The Choptank   \n",
       "39  6ulR8s_SK3X0wYVQNZ0DSQ  next-phaze-cafe-baltimore  Next Phaze Cafe   \n",
       "\n",
       "                                            image_url  is_closed  \\\n",
       "37  https://s3-media1.fl.yelpcdn.com/bphoto/ofor5U...      False   \n",
       "38  https://s3-media3.fl.yelpcdn.com/bphoto/0Mdtr7...      False   \n",
       "39  https://s3-media3.fl.yelpcdn.com/bphoto/Z9Z5VT...      False   \n",
       "\n",
       "                                                  url  review_count  \\\n",
       "37  https://www.yelp.com/biz/old-bay-seafood-balti...             5   \n",
       "38  https://www.yelp.com/biz/the-choptank-baltimor...           200   \n",
       "39  https://www.yelp.com/biz/next-phaze-cafe-balti...            84   \n",
       "\n",
       "                                           categories  rating  \\\n",
       "37         [{'alias': 'seafood', 'title': 'Seafood'}]     4.5   \n",
       "38         [{'alias': 'seafood', 'title': 'Seafood'}]     4.0   \n",
       "39  [{'alias': 'cafes', 'title': 'Cafes'}, {'alias...     4.0   \n",
       "\n",
       "                                          coordinates        transactions  \\\n",
       "37  {'latitude': 39.2839579930058, 'longitude': -7...                  []   \n",
       "38   {'latitude': 39.283338, 'longitude': -76.593321}                  []   \n",
       "39  {'latitude': 39.2913148, 'longitude': -76.6130...  [pickup, delivery]   \n",
       "\n",
       "   price                                           location         phone  \\\n",
       "37    $$  {'address1': '333 W Camden St', 'address2': ''...  +18888482473   \n",
       "38   NaN  {'address1': '1641 Aliceanna St', 'address2': ...  +14437073364   \n",
       "39    $$  {'address1': '112 E Lexington St', 'address2':...  +14104493232   \n",
       "\n",
       "     display_phone     distance  \n",
       "37  (888) 848-2473  1807.250816  \n",
       "38  (443) 707-3364  1891.591150  \n",
       "39  (410) 449-3232   710.122481  "
      ]
     },
     "metadata": {},
     "output_type": "display_data"
    }
   ],
   "source": [
    "businesses = pd.concat([biz, biz20],\n",
    "                      ignore_index=True)\n",
    "display(businesses.head(3), businesses.tail(3))"
   ]
  },
  {
   "cell_type": "markdown",
   "id": "270eecf9",
   "metadata": {},
   "source": [
    "# Efficient API Practice"
   ]
  },
  {
   "cell_type": "code",
   "execution_count": 63,
   "id": "6cdaae01",
   "metadata": {},
   "outputs": [],
   "source": [
    "# Standard Imports\n",
    "import numpy as np\n",
    "import pandas as pd\n",
    "import matplotlib.pyplot as plt\n",
    "import seaborn as sns\n",
    "\n",
    "# Additional Imports\n",
    "import os, json, math, time\n",
    "from yelpapi import YelpAPI\n",
    "from tqdm.notebook import tqdm_notebook"
   ]
  },
  {
   "cell_type": "code",
   "execution_count": 64,
   "id": "ca3ffe62",
   "metadata": {},
   "outputs": [
    {
     "data": {
      "text/plain": [
       "dict_keys(['client-id', 'api-key'])"
      ]
     },
     "execution_count": 64,
     "metadata": {},
     "output_type": "execute_result"
    }
   ],
   "source": [
    "# load API creds\n",
    "with open('../../.secret/yelp_api.json') as f:\n",
    "    login = json.load(f)\n",
    "login.keys()"
   ]
  },
  {
   "cell_type": "code",
   "execution_count": 65,
   "id": "d974432b",
   "metadata": {},
   "outputs": [
    {
     "data": {
      "text/plain": [
       "<yelpapi.yelpapi.YelpAPI at 0x13cf34ee808>"
      ]
     },
     "execution_count": 65,
     "metadata": {},
     "output_type": "execute_result"
    }
   ],
   "source": [
    "yelp_api = YelpAPI(login['api-key'], timeout_s=3)\n",
    "yelp_api"
   ]
  },
  {
   "cell_type": "code",
   "execution_count": 66,
   "id": "7313f185",
   "metadata": {},
   "outputs": [],
   "source": [
    "# Define Search Terms\n",
    "LOCATION = 'Charlottesville, VA'\n",
    "TERM = 'Winery'"
   ]
  },
  {
   "cell_type": "code",
   "execution_count": 67,
   "id": "98a15812",
   "metadata": {},
   "outputs": [
    {
     "data": {
      "text/plain": [
       "'Data/results_in_progress_Charlottesville_Winery.json'"
      ]
     },
     "execution_count": 67,
     "metadata": {},
     "output_type": "execute_result"
    }
   ],
   "source": [
    "# Create file location to save in progress results\n",
    "FOLDER = \"Data/\"\n",
    "\n",
    "JSON_FILE = f\"{FOLDER}results_in_progress_{LOCATION.split(',')[0]}_{TERM}.json\"\n",
    "JSON_FILE"
   ]
  },
  {
   "cell_type": "code",
   "execution_count": 68,
   "id": "9dd469f9",
   "metadata": {},
   "outputs": [
    {
     "name": "stdout",
     "output_type": "stream",
     "text": [
      "[i] Data/results_in_progress_Charlottesville_Winery.json already exists.\n"
     ]
    }
   ],
   "source": [
    "# Check if the JSON_FILE already exists to prevent overwrite\n",
    "# IF it doesnt create folders in path and save an empty list\n",
    "\n",
    "file_exists = os.path.isfile(JSON_FILE)\n",
    "\n",
    "if file_exists == False:\n",
    "    \n",
    "    #Get Folder Name (IF THERE IS ONE)\n",
    "    folder = os.path.dirname(JSON_FILE)\n",
    "    \n",
    "    # Check for folder... if there was a folder in the path make it.\n",
    "    if len(folder) > 0:\n",
    "        os.makedirs(folder, exist_ok = True)\n",
    "    \n",
    "    print(f\"{JSON_FILE} not found. Saving empty list to file.\")\n",
    "    \n",
    "    with open(JSON_FILE, 'w') as f:\n",
    "        json.dump([],f)\n",
    "\n",
    "else:\n",
    "    print(f\"[i] {JSON_FILE} already exists.\")"
   ]
  },
  {
   "cell_type": "code",
   "execution_count": 69,
   "id": "0f8ee88c",
   "metadata": {},
   "outputs": [
    {
     "name": "stdout",
     "output_type": "stream",
     "text": [
      "- 20 previous results found.\n"
     ]
    }
   ],
   "source": [
    "# Determine the number of results already in the file\n",
    "with open(JSON_FILE, 'r') as f:\n",
    "    previous_results = json.load(f)\n",
    "\n",
    "# Set offset based on previous results\n",
    "n_results = len(previous_results)\n",
    "print(f'- {n_results} previous results found.')"
   ]
  },
  {
   "cell_type": "code",
   "execution_count": 70,
   "id": "72e88083",
   "metadata": {},
   "outputs": [
    {
     "data": {
      "text/plain": [
       "dict_keys(['businesses', 'total', 'region'])"
      ]
     },
     "execution_count": 70,
     "metadata": {},
     "output_type": "execute_result"
    }
   ],
   "source": [
    "results = yelp_api.search_query(location=LOCATION,\n",
    "                               term=TERM,\n",
    "                               offset = n_results+1)\n",
    "results.keys()"
   ]
  },
  {
   "cell_type": "code",
   "execution_count": 71,
   "id": "499be0c0",
   "metadata": {},
   "outputs": [
    {
     "data": {
      "text/plain": [
       "77"
      ]
     },
     "execution_count": 71,
     "metadata": {},
     "output_type": "execute_result"
    }
   ],
   "source": [
    "# Determine the total number of businesses captured by the Yelp Search\n",
    "total_results = results['total']\n",
    "total_results"
   ]
  },
  {
   "cell_type": "code",
   "execution_count": 72,
   "id": "895fa50c",
   "metadata": {},
   "outputs": [
    {
     "data": {
      "text/plain": [
       "20"
      ]
     },
     "execution_count": 72,
     "metadata": {},
     "output_type": "execute_result"
    }
   ],
   "source": [
    "# Determine the number saved per page\n",
    "results_per_page = len(results['businesses'])\n",
    "results_per_page"
   ]
  },
  {
   "cell_type": "code",
   "execution_count": 73,
   "id": "67878de7",
   "metadata": {},
   "outputs": [
    {
     "data": {
      "text/plain": [
       "3"
      ]
     },
     "execution_count": 73,
     "metadata": {},
     "output_type": "execute_result"
    }
   ],
   "source": [
    "# Use math.ceil to round up for the toal number of pages needed\n",
    "import math, time\n",
    "\n",
    "n_pages = math.ceil((total_results-n_results) / results_per_page)\n",
    "n_pages\n",
    "\n",
    "# Subtract by n_results to avoid duplicating previous work!!!"
   ]
  },
  {
   "cell_type": "code",
   "execution_count": 74,
   "id": "579b2bdd",
   "metadata": {},
   "outputs": [],
   "source": [
    "# Save our results as we loop...\n",
    "previous_results.extend(results['businesses'])\n",
    "with open(JSON_FILE, 'w') as f:\n",
    "    json.dump(previous_results,f)"
   ]
  },
  {
   "cell_type": "code",
   "execution_count": 75,
   "id": "4398ea94",
   "metadata": {},
   "outputs": [
    {
     "data": {
      "application/vnd.jupyter.widget-view+json": {
       "model_id": "89d3907f4c2b4c208540ddcd4183e1b2",
       "version_major": 2,
       "version_minor": 0
      },
      "text/plain": [
       "  0%|          | 0/3 [00:00<?, ?it/s]"
      ]
     },
     "metadata": {},
     "output_type": "display_data"
    }
   ],
   "source": [
    "# Look what tqdm can do!\n",
    "from tqdm.notebook import tqdm_notebook\n",
    "\n",
    "for i in tqdm_notebook(range(n_pages)):\n",
    "    time.sleep(.5)"
   ]
  },
  {
   "cell_type": "code",
   "execution_count": 76,
   "id": "d61c26ec",
   "metadata": {
    "scrolled": true
   },
   "outputs": [
    {
     "data": {
      "application/vnd.jupyter.widget-view+json": {
       "model_id": "bcdaa2ec8a4f406180ba5f174a6ee6bb",
       "version_major": 2,
       "version_minor": 0
      },
      "text/plain": [
       "  0%|          | 0/3 [00:00<?, ?it/s]"
      ]
     },
     "metadata": {},
     "output_type": "display_data"
    }
   ],
   "source": [
    "for i in tqdm_notebook(range(1,n_pages+1)):\n",
    "    time.sleep(.2)\n",
    "    \n",
    "    # Read in existing results for API call\n",
    "    with open(JSON_FILE, 'r') as f:\n",
    "        previous_results = json.load(f)\n",
    "    \n",
    "    # check length of results (IE are there results?)\n",
    "    n_results = len(previous_results)\n",
    "    \n",
    "    # Run API using n_results+1 as offset\n",
    "    results = yelp_api.search_query(location = LOCATION,\n",
    "                                   term = TERM,\n",
    "                                   offset = n_results+1)\n",
    "    \n",
    "    previous_results.extend(results['businesses'])\n",
    "    \n",
    "    with open(JSON_FILE, 'w') as f:\n",
    "        json.dump(previous_results, f)"
   ]
  },
  {
   "cell_type": "code",
   "execution_count": 80,
   "id": "26038bef",
   "metadata": {},
   "outputs": [
    {
     "data": {
      "text/html": [
       "<div>\n",
       "<style scoped>\n",
       "    .dataframe tbody tr th:only-of-type {\n",
       "        vertical-align: middle;\n",
       "    }\n",
       "\n",
       "    .dataframe tbody tr th {\n",
       "        vertical-align: top;\n",
       "    }\n",
       "\n",
       "    .dataframe thead th {\n",
       "        text-align: right;\n",
       "    }\n",
       "</style>\n",
       "<table border=\"1\" class=\"dataframe\">\n",
       "  <thead>\n",
       "    <tr style=\"text-align: right;\">\n",
       "      <th></th>\n",
       "      <th>id</th>\n",
       "      <th>alias</th>\n",
       "      <th>name</th>\n",
       "      <th>image_url</th>\n",
       "      <th>is_closed</th>\n",
       "      <th>url</th>\n",
       "      <th>review_count</th>\n",
       "      <th>categories</th>\n",
       "      <th>rating</th>\n",
       "      <th>coordinates</th>\n",
       "      <th>transactions</th>\n",
       "      <th>price</th>\n",
       "      <th>location</th>\n",
       "      <th>phone</th>\n",
       "      <th>display_phone</th>\n",
       "      <th>distance</th>\n",
       "    </tr>\n",
       "  </thead>\n",
       "  <tbody>\n",
       "    <tr>\n",
       "      <th>0</th>\n",
       "      <td>9WSh050KKnLktbzE3X5KBA</td>\n",
       "      <td>jefferson-vineyards-charlottesville</td>\n",
       "      <td>Jefferson Vineyards</td>\n",
       "      <td>https://s3-media4.fl.yelpcdn.com/bphoto/MGBDPm...</td>\n",
       "      <td>False</td>\n",
       "      <td>https://www.yelp.com/biz/jefferson-vineyards-c...</td>\n",
       "      <td>237</td>\n",
       "      <td>[{'alias': 'wineries', 'title': 'Wineries'}]</td>\n",
       "      <td>4.0</td>\n",
       "      <td>{'latitude': 37.990044, 'longitude': -78.443643}</td>\n",
       "      <td>[]</td>\n",
       "      <td>$$</td>\n",
       "      <td>{'address1': '1353 Thomas Jefferson Pkwy', 'ad...</td>\n",
       "      <td>+14349773042</td>\n",
       "      <td>(434) 977-3042</td>\n",
       "      <td>6630.950399</td>\n",
       "    </tr>\n",
       "    <tr>\n",
       "      <th>1</th>\n",
       "      <td>s6pzoTZDjQ4h_SY_FpP2SQ</td>\n",
       "      <td>gabriele-rausse-charlottesville</td>\n",
       "      <td>Gabriele Rausse</td>\n",
       "      <td>https://s3-media1.fl.yelpcdn.com/bphoto/HS8EsX...</td>\n",
       "      <td>False</td>\n",
       "      <td>https://www.yelp.com/biz/gabriele-rausse-charl...</td>\n",
       "      <td>77</td>\n",
       "      <td>[{'alias': 'wineries', 'title': 'Wineries'}]</td>\n",
       "      <td>4.5</td>\n",
       "      <td>{'latitude': 37.9460038, 'longitude': -78.4832...</td>\n",
       "      <td>[]</td>\n",
       "      <td>$$</td>\n",
       "      <td>{'address1': '3247 Carters Mountain Rd', 'addr...</td>\n",
       "      <td>+14349811677</td>\n",
       "      <td>(434) 981-1677</td>\n",
       "      <td>10995.036917</td>\n",
       "    </tr>\n",
       "    <tr>\n",
       "      <th>2</th>\n",
       "      <td>Z9djBo-FcFChFjE7sfXaIw</td>\n",
       "      <td>pippin-hill-farm-and-vineyards-north-garden</td>\n",
       "      <td>Pippin Hill Farm &amp; Vineyards</td>\n",
       "      <td>https://s3-media2.fl.yelpcdn.com/bphoto/lc2NOq...</td>\n",
       "      <td>False</td>\n",
       "      <td>https://www.yelp.com/biz/pippin-hill-farm-and-...</td>\n",
       "      <td>326</td>\n",
       "      <td>[{'alias': 'venues', 'title': 'Venues &amp; Event ...</td>\n",
       "      <td>4.0</td>\n",
       "      <td>{'latitude': 37.9577015, 'longitude': -78.661157}</td>\n",
       "      <td>[pickup, delivery]</td>\n",
       "      <td>$$</td>\n",
       "      <td>{'address1': '5022 Plank Rd', 'address2': '', ...</td>\n",
       "      <td>+14342028063</td>\n",
       "      <td>(434) 202-8063</td>\n",
       "      <td>18452.142160</td>\n",
       "    </tr>\n",
       "    <tr>\n",
       "      <th>3</th>\n",
       "      <td>8H_FKdb3PRx1RLoAjnE86w</td>\n",
       "      <td>merrie-mill-farm-and-vineyard-keswick</td>\n",
       "      <td>Merrie Mill Farm &amp; Vineyard</td>\n",
       "      <td>https://s3-media2.fl.yelpcdn.com/bphoto/SOP99o...</td>\n",
       "      <td>False</td>\n",
       "      <td>https://www.yelp.com/biz/merrie-mill-farm-and-...</td>\n",
       "      <td>26</td>\n",
       "      <td>[{'alias': 'winetastingroom', 'title': 'Wine T...</td>\n",
       "      <td>4.5</td>\n",
       "      <td>{'latitude': 38.0542984, 'longitude': -78.2956...</td>\n",
       "      <td>[]</td>\n",
       "      <td>NaN</td>\n",
       "      <td>{'address1': '594 Merrie Mill Farm', 'address2...</td>\n",
       "      <td>+14343653006</td>\n",
       "      <td>(434) 365-3006</td>\n",
       "      <td>16223.671596</td>\n",
       "    </tr>\n",
       "    <tr>\n",
       "      <th>4</th>\n",
       "      <td>gXNjZS7yl2MRq9BY63v8Tg</td>\n",
       "      <td>glass-house-winery-free-union</td>\n",
       "      <td>Glass House Winery</td>\n",
       "      <td>https://s3-media2.fl.yelpcdn.com/bphoto/MHRI2-...</td>\n",
       "      <td>False</td>\n",
       "      <td>https://www.yelp.com/biz/glass-house-winery-fr...</td>\n",
       "      <td>87</td>\n",
       "      <td>[{'alias': 'wineries', 'title': 'Wineries'}, {...</td>\n",
       "      <td>4.5</td>\n",
       "      <td>{'latitude': 38.2025939, 'longitude': -78.5791...</td>\n",
       "      <td>[]</td>\n",
       "      <td>$$</td>\n",
       "      <td>{'address1': '5898 Free Union Rd', 'address2':...</td>\n",
       "      <td>+14349750094</td>\n",
       "      <td>(434) 975-0094</td>\n",
       "      <td>19646.202482</td>\n",
       "    </tr>\n",
       "  </tbody>\n",
       "</table>\n",
       "</div>"
      ],
      "text/plain": [
       "                       id                                        alias  \\\n",
       "0  9WSh050KKnLktbzE3X5KBA          jefferson-vineyards-charlottesville   \n",
       "1  s6pzoTZDjQ4h_SY_FpP2SQ              gabriele-rausse-charlottesville   \n",
       "2  Z9djBo-FcFChFjE7sfXaIw  pippin-hill-farm-and-vineyards-north-garden   \n",
       "3  8H_FKdb3PRx1RLoAjnE86w        merrie-mill-farm-and-vineyard-keswick   \n",
       "4  gXNjZS7yl2MRq9BY63v8Tg                glass-house-winery-free-union   \n",
       "\n",
       "                           name  \\\n",
       "0           Jefferson Vineyards   \n",
       "1               Gabriele Rausse   \n",
       "2  Pippin Hill Farm & Vineyards   \n",
       "3   Merrie Mill Farm & Vineyard   \n",
       "4            Glass House Winery   \n",
       "\n",
       "                                           image_url  is_closed  \\\n",
       "0  https://s3-media4.fl.yelpcdn.com/bphoto/MGBDPm...      False   \n",
       "1  https://s3-media1.fl.yelpcdn.com/bphoto/HS8EsX...      False   \n",
       "2  https://s3-media2.fl.yelpcdn.com/bphoto/lc2NOq...      False   \n",
       "3  https://s3-media2.fl.yelpcdn.com/bphoto/SOP99o...      False   \n",
       "4  https://s3-media2.fl.yelpcdn.com/bphoto/MHRI2-...      False   \n",
       "\n",
       "                                                 url  review_count  \\\n",
       "0  https://www.yelp.com/biz/jefferson-vineyards-c...           237   \n",
       "1  https://www.yelp.com/biz/gabriele-rausse-charl...            77   \n",
       "2  https://www.yelp.com/biz/pippin-hill-farm-and-...           326   \n",
       "3  https://www.yelp.com/biz/merrie-mill-farm-and-...            26   \n",
       "4  https://www.yelp.com/biz/glass-house-winery-fr...            87   \n",
       "\n",
       "                                          categories  rating  \\\n",
       "0       [{'alias': 'wineries', 'title': 'Wineries'}]     4.0   \n",
       "1       [{'alias': 'wineries', 'title': 'Wineries'}]     4.5   \n",
       "2  [{'alias': 'venues', 'title': 'Venues & Event ...     4.0   \n",
       "3  [{'alias': 'winetastingroom', 'title': 'Wine T...     4.5   \n",
       "4  [{'alias': 'wineries', 'title': 'Wineries'}, {...     4.5   \n",
       "\n",
       "                                         coordinates        transactions  \\\n",
       "0   {'latitude': 37.990044, 'longitude': -78.443643}                  []   \n",
       "1  {'latitude': 37.9460038, 'longitude': -78.4832...                  []   \n",
       "2  {'latitude': 37.9577015, 'longitude': -78.661157}  [pickup, delivery]   \n",
       "3  {'latitude': 38.0542984, 'longitude': -78.2956...                  []   \n",
       "4  {'latitude': 38.2025939, 'longitude': -78.5791...                  []   \n",
       "\n",
       "  price                                           location         phone  \\\n",
       "0    $$  {'address1': '1353 Thomas Jefferson Pkwy', 'ad...  +14349773042   \n",
       "1    $$  {'address1': '3247 Carters Mountain Rd', 'addr...  +14349811677   \n",
       "2    $$  {'address1': '5022 Plank Rd', 'address2': '', ...  +14342028063   \n",
       "3   NaN  {'address1': '594 Merrie Mill Farm', 'address2...  +14343653006   \n",
       "4    $$  {'address1': '5898 Free Union Rd', 'address2':...  +14349750094   \n",
       "\n",
       "    display_phone      distance  \n",
       "0  (434) 977-3042   6630.950399  \n",
       "1  (434) 981-1677  10995.036917  \n",
       "2  (434) 202-8063  18452.142160  \n",
       "3  (434) 365-3006  16223.671596  \n",
       "4  (434) 975-0094  19646.202482  "
      ]
     },
     "metadata": {},
     "output_type": "display_data"
    },
    {
     "data": {
      "text/html": [
       "<div>\n",
       "<style scoped>\n",
       "    .dataframe tbody tr th:only-of-type {\n",
       "        vertical-align: middle;\n",
       "    }\n",
       "\n",
       "    .dataframe tbody tr th {\n",
       "        vertical-align: top;\n",
       "    }\n",
       "\n",
       "    .dataframe thead th {\n",
       "        text-align: right;\n",
       "    }\n",
       "</style>\n",
       "<table border=\"1\" class=\"dataframe\">\n",
       "  <thead>\n",
       "    <tr style=\"text-align: right;\">\n",
       "      <th></th>\n",
       "      <th>id</th>\n",
       "      <th>alias</th>\n",
       "      <th>name</th>\n",
       "      <th>image_url</th>\n",
       "      <th>is_closed</th>\n",
       "      <th>url</th>\n",
       "      <th>review_count</th>\n",
       "      <th>categories</th>\n",
       "      <th>rating</th>\n",
       "      <th>coordinates</th>\n",
       "      <th>transactions</th>\n",
       "      <th>price</th>\n",
       "      <th>location</th>\n",
       "      <th>phone</th>\n",
       "      <th>display_phone</th>\n",
       "      <th>distance</th>\n",
       "    </tr>\n",
       "  </thead>\n",
       "  <tbody>\n",
       "    <tr>\n",
       "      <th>40</th>\n",
       "      <td>5qNkM1pPktyaQVbQfjZfdw</td>\n",
       "      <td>top-shelf-transportation-charlottesville</td>\n",
       "      <td>Top Shelf Transportation</td>\n",
       "      <td>https://s3-media1.fl.yelpcdn.com/bphoto/OQZ4jE...</td>\n",
       "      <td>False</td>\n",
       "      <td>https://www.yelp.com/biz/top-shelf-transportat...</td>\n",
       "      <td>22</td>\n",
       "      <td>[{'alias': 'winetours', 'title': 'Wine Tours'}...</td>\n",
       "      <td>5.0</td>\n",
       "      <td>{'latitude': 38.086855, 'longitude': -78.469888}</td>\n",
       "      <td>[]</td>\n",
       "      <td>NaN</td>\n",
       "      <td>{'address1': '1869 Seminole Trl', 'address2': ...</td>\n",
       "      <td>+14342959462</td>\n",
       "      <td>(434) 295-9462</td>\n",
       "      <td>4728.832738</td>\n",
       "    </tr>\n",
       "    <tr>\n",
       "      <th>41</th>\n",
       "      <td>RWy9KbL58h9HhTfJOHhmJA</td>\n",
       "      <td>vingo-tours-charlottesville</td>\n",
       "      <td>VinGo Tours</td>\n",
       "      <td>https://s3-media1.fl.yelpcdn.com/bphoto/AQUza5...</td>\n",
       "      <td>False</td>\n",
       "      <td>https://www.yelp.com/biz/vingo-tours-charlotte...</td>\n",
       "      <td>2</td>\n",
       "      <td>[{'alias': 'winetours', 'title': 'Wine Tours'}]</td>\n",
       "      <td>5.0</td>\n",
       "      <td>{'latitude': 38.0423698425293, 'longitude': -7...</td>\n",
       "      <td>[]</td>\n",
       "      <td>NaN</td>\n",
       "      <td>{'address1': None, 'address2': None, 'address3...</td>\n",
       "      <td>+14342601603</td>\n",
       "      <td>(434) 260-1603</td>\n",
       "      <td>1727.472447</td>\n",
       "    </tr>\n",
       "    <tr>\n",
       "      <th>42</th>\n",
       "      <td>maMeVkLA1yIBkzbOm7aF6A</td>\n",
       "      <td>hyatt-place-charlottesville-charlottesville</td>\n",
       "      <td>Hyatt Place Charlottesville</td>\n",
       "      <td>https://s3-media2.fl.yelpcdn.com/bphoto/5uIHa5...</td>\n",
       "      <td>False</td>\n",
       "      <td>https://www.yelp.com/biz/hyatt-place-charlotte...</td>\n",
       "      <td>50</td>\n",
       "      <td>[{'alias': 'hotels', 'title': 'Hotels'}, {'ali...</td>\n",
       "      <td>4.0</td>\n",
       "      <td>{'latitude': 38.0664497284703, 'longitude': -7...</td>\n",
       "      <td>[]</td>\n",
       "      <td>$$</td>\n",
       "      <td>{'address1': '2100 Bond St', 'address2': '', '...</td>\n",
       "      <td>+14349955200</td>\n",
       "      <td>(434) 995-5200</td>\n",
       "      <td>2763.470629</td>\n",
       "    </tr>\n",
       "    <tr>\n",
       "      <th>43</th>\n",
       "      <td>OePDEUHpth8EkGAbfQ7FGg</td>\n",
       "      <td>omni-charlottesville-hotel-charlottesville</td>\n",
       "      <td>Omni Charlottesville Hotel</td>\n",
       "      <td>https://s3-media4.fl.yelpcdn.com/bphoto/yRMk-B...</td>\n",
       "      <td>False</td>\n",
       "      <td>https://www.yelp.com/biz/omni-charlottesville-...</td>\n",
       "      <td>109</td>\n",
       "      <td>[{'alias': 'hotels', 'title': 'Hotels'}, {'ali...</td>\n",
       "      <td>3.5</td>\n",
       "      <td>{'latitude': 38.031274, 'longitude': -78.483499}</td>\n",
       "      <td>[]</td>\n",
       "      <td>$$$</td>\n",
       "      <td>{'address1': '212 Ridge McIntire Rd', 'address...</td>\n",
       "      <td>+14349715500</td>\n",
       "      <td>(434) 971-5500</td>\n",
       "      <td>1577.078252</td>\n",
       "    </tr>\n",
       "    <tr>\n",
       "      <th>44</th>\n",
       "      <td>yQ27NzO_Odi1gsjdv-XpfQ</td>\n",
       "      <td>charlottesville-transportation-charlottesville</td>\n",
       "      <td>Charlottesville Transportation</td>\n",
       "      <td>https://s3-media3.fl.yelpcdn.com/bphoto/Di9WTU...</td>\n",
       "      <td>False</td>\n",
       "      <td>https://www.yelp.com/biz/charlottesville-trans...</td>\n",
       "      <td>13</td>\n",
       "      <td>[{'alias': 'airport_shuttles', 'title': 'Airpo...</td>\n",
       "      <td>5.0</td>\n",
       "      <td>{'latitude': 38.0423698425293, 'longitude': -7...</td>\n",
       "      <td>[]</td>\n",
       "      <td>NaN</td>\n",
       "      <td>{'address1': None, 'address2': None, 'address3...</td>\n",
       "      <td>+14344668465</td>\n",
       "      <td>(434) 466-8465</td>\n",
       "      <td>1727.472447</td>\n",
       "    </tr>\n",
       "  </tbody>\n",
       "</table>\n",
       "</div>"
      ],
      "text/plain": [
       "                        id                                           alias  \\\n",
       "40  5qNkM1pPktyaQVbQfjZfdw        top-shelf-transportation-charlottesville   \n",
       "41  RWy9KbL58h9HhTfJOHhmJA                     vingo-tours-charlottesville   \n",
       "42  maMeVkLA1yIBkzbOm7aF6A     hyatt-place-charlottesville-charlottesville   \n",
       "43  OePDEUHpth8EkGAbfQ7FGg      omni-charlottesville-hotel-charlottesville   \n",
       "44  yQ27NzO_Odi1gsjdv-XpfQ  charlottesville-transportation-charlottesville   \n",
       "\n",
       "                              name  \\\n",
       "40        Top Shelf Transportation   \n",
       "41                     VinGo Tours   \n",
       "42     Hyatt Place Charlottesville   \n",
       "43      Omni Charlottesville Hotel   \n",
       "44  Charlottesville Transportation   \n",
       "\n",
       "                                            image_url  is_closed  \\\n",
       "40  https://s3-media1.fl.yelpcdn.com/bphoto/OQZ4jE...      False   \n",
       "41  https://s3-media1.fl.yelpcdn.com/bphoto/AQUza5...      False   \n",
       "42  https://s3-media2.fl.yelpcdn.com/bphoto/5uIHa5...      False   \n",
       "43  https://s3-media4.fl.yelpcdn.com/bphoto/yRMk-B...      False   \n",
       "44  https://s3-media3.fl.yelpcdn.com/bphoto/Di9WTU...      False   \n",
       "\n",
       "                                                  url  review_count  \\\n",
       "40  https://www.yelp.com/biz/top-shelf-transportat...            22   \n",
       "41  https://www.yelp.com/biz/vingo-tours-charlotte...             2   \n",
       "42  https://www.yelp.com/biz/hyatt-place-charlotte...            50   \n",
       "43  https://www.yelp.com/biz/omni-charlottesville-...           109   \n",
       "44  https://www.yelp.com/biz/charlottesville-trans...            13   \n",
       "\n",
       "                                           categories  rating  \\\n",
       "40  [{'alias': 'winetours', 'title': 'Wine Tours'}...     5.0   \n",
       "41    [{'alias': 'winetours', 'title': 'Wine Tours'}]     5.0   \n",
       "42  [{'alias': 'hotels', 'title': 'Hotels'}, {'ali...     4.0   \n",
       "43  [{'alias': 'hotels', 'title': 'Hotels'}, {'ali...     3.5   \n",
       "44  [{'alias': 'airport_shuttles', 'title': 'Airpo...     5.0   \n",
       "\n",
       "                                          coordinates transactions price  \\\n",
       "40   {'latitude': 38.086855, 'longitude': -78.469888}           []   NaN   \n",
       "41  {'latitude': 38.0423698425293, 'longitude': -7...           []   NaN   \n",
       "42  {'latitude': 38.0664497284703, 'longitude': -7...           []    $$   \n",
       "43   {'latitude': 38.031274, 'longitude': -78.483499}           []   $$$   \n",
       "44  {'latitude': 38.0423698425293, 'longitude': -7...           []   NaN   \n",
       "\n",
       "                                             location         phone  \\\n",
       "40  {'address1': '1869 Seminole Trl', 'address2': ...  +14342959462   \n",
       "41  {'address1': None, 'address2': None, 'address3...  +14342601603   \n",
       "42  {'address1': '2100 Bond St', 'address2': '', '...  +14349955200   \n",
       "43  {'address1': '212 Ridge McIntire Rd', 'address...  +14349715500   \n",
       "44  {'address1': None, 'address2': None, 'address3...  +14344668465   \n",
       "\n",
       "     display_phone     distance  \n",
       "40  (434) 295-9462  4728.832738  \n",
       "41  (434) 260-1603  1727.472447  \n",
       "42  (434) 995-5200  2763.470629  \n",
       "43  (434) 971-5500  1577.078252  \n",
       "44  (434) 466-8465  1727.472447  "
      ]
     },
     "metadata": {},
     "output_type": "display_data"
    }
   ],
   "source": [
    "final_df = pd.read_json(JSON_FILE)\n",
    "display(final_df.head(), final_df.tail())"
   ]
  },
  {
   "cell_type": "code",
   "execution_count": 82,
   "id": "33d2f41b",
   "metadata": {},
   "outputs": [
    {
     "data": {
      "text/plain": [
       "0"
      ]
     },
     "execution_count": 82,
     "metadata": {},
     "output_type": "execute_result"
    }
   ],
   "source": [
    "final_df.duplicated(subset = 'id').sum()"
   ]
  },
  {
   "cell_type": "code",
   "execution_count": 36,
   "id": "2654460b",
   "metadata": {},
   "outputs": [
    {
     "data": {
      "text/plain": [
       "list"
      ]
     },
     "execution_count": 36,
     "metadata": {},
     "output_type": "execute_result"
    }
   ],
   "source": [
    "type(previous_results)"
   ]
  },
  {
   "cell_type": "code",
   "execution_count": 83,
   "id": "94c91ce8",
   "metadata": {},
   "outputs": [],
   "source": [
    "# Save final DF to a csv (or csv.gz if you want to compress)\n",
    "final_df.to_csv(f\"{FOLDER}results_final_{LOCATION.split(',')[0]}_{TERM}.csv.gz\",\n",
    "               compression='gzip', index = False)"
   ]
  }
 ],
 "metadata": {
  "kernelspec": {
   "display_name": "Python (dojo-env)",
   "language": "python",
   "name": "dojo-env"
  },
  "language_info": {
   "codemirror_mode": {
    "name": "ipython",
    "version": 3
   },
   "file_extension": ".py",
   "mimetype": "text/x-python",
   "name": "python",
   "nbconvert_exporter": "python",
   "pygments_lexer": "ipython3",
   "version": "3.7.12"
  },
  "toc": {
   "base_numbering": 1,
   "nav_menu": {},
   "number_sections": false,
   "sideBar": true,
   "skip_h1_title": false,
   "title_cell": "Table of Contents",
   "title_sidebar": "Contents",
   "toc_cell": false,
   "toc_position": {},
   "toc_section_display": true,
   "toc_window_display": true
  }
 },
 "nbformat": 4,
 "nbformat_minor": 5
}
