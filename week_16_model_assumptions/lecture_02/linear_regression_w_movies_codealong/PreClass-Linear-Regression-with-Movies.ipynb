{
 "cells": [
  {
   "cell_type": "markdown",
   "id": "ec7b8cd1",
   "metadata": {},
   "source": [
    "# Linear Regression with Statsmodels for Movie Revenue"
   ]
  },
  {
   "cell_type": "markdown",
   "id": "be646c03",
   "metadata": {},
   "source": [
    "- 05/10/22"
   ]
  },
  {
   "cell_type": "markdown",
   "id": "2550a29d",
   "metadata": {},
   "source": [
    "## Activity: Create a Linear Regression Model with Statsmodels for Revenue"
   ]
  },
  {
   "cell_type": "markdown",
   "id": "c906f994",
   "metadata": {},
   "source": [
    "- Today we will be working with JUST the data data from the TMDB API for years 2000-2021. \n",
    "    - We will prepare the data for modeling\n",
    "        - Some feature engineering\n",
    "        - Our usual Preprocessing\n",
    "        - New steps for statsmodels!\n",
    "    - We will fit a statsmodels linear regression.\n",
    "    - We Will inspect the model summary.\n",
    "    - We will create the visualizations to check assumptions about the residuals.\n",
    "\n",
    "\n",
    "\n",
    "- Next class we will continue this activity.\n",
    "    - We will better check all 4 assumptions.\n",
    "    - We will discuss tactics for dealing with violations of the assumptions. \n",
    "    - We will use our coefficients to make stakeholder recommendations."
   ]
  },
  {
   "cell_type": "markdown",
   "id": "053aec11",
   "metadata": {},
   "source": [
    "### Concepts Demonstrated"
   ]
  },
  {
   "cell_type": "markdown",
   "id": "2acd3fb6",
   "metadata": {},
   "source": [
    "- [ ] Using `glob` for loading in all final files. \n",
    "- [ ] Statsmodels OLS\n",
    "- [ ] QQ-Plot\n",
    "- [ ] Residual Plot"
   ]
  },
  {
   "cell_type": "markdown",
   "id": "89fd0241",
   "metadata": {},
   "source": [
    "# Loading the Data"
   ]
  },
  {
   "cell_type": "code",
   "execution_count": 1,
   "id": "65e05555",
   "metadata": {},
   "outputs": [],
   "source": [
    "import json\n",
    "import pandas as pd\n",
    "import numpy as np\n",
    "import seaborn as sns\n",
    "from scipy import stats\n",
    "\n",
    "import matplotlib.pyplot as plt\n",
    "\n",
    "from sklearn.model_selection import train_test_split\n",
    "from sklearn.preprocessing import OneHotEncoder, StandardScaler\n",
    "from sklearn.impute import SimpleImputer\n",
    "from sklearn.compose import make_column_transformer, make_column_selector, ColumnTransformer\n",
    "from sklearn.pipeline import make_pipeline, Pipeline\n",
    "from sklearn.metrics import r2_score,mean_absolute_error,mean_squared_error\n",
    "## fixing random for lesson generation\n",
    "np.random.seed(321)"
   ]
  },
  {
   "cell_type": "code",
   "execution_count": 2,
   "id": "0b603a58",
   "metadata": {},
   "outputs": [],
   "source": [
    "pd.set_option('display.max_columns',100)"
   ]
  },
  {
   "cell_type": "markdown",
   "id": "d4ad0a31",
   "metadata": {},
   "source": [
    "### 📚 Finding & Loading Batches of Files with `glob`"
   ]
  },
  {
   "cell_type": "code",
   "execution_count": 6,
   "id": "dff0331a",
   "metadata": {},
   "outputs": [],
   "source": [
    "## Checking what data we already in our Data folder using os.listdir\n",
    "import os\n",
    "FOLDER = 'Data/'\n",
    "file_list = sorted(os.listdir(FOLDER))"
   ]
  },
  {
   "cell_type": "code",
   "execution_count": 7,
   "id": "17b13c76",
   "metadata": {
    "scrolled": true
   },
   "outputs": [
    {
     "data": {
      "text/html": [
       "<div>\n",
       "<style scoped>\n",
       "    .dataframe tbody tr th:only-of-type {\n",
       "        vertical-align: middle;\n",
       "    }\n",
       "\n",
       "    .dataframe tbody tr th {\n",
       "        vertical-align: top;\n",
       "    }\n",
       "\n",
       "    .dataframe thead th {\n",
       "        text-align: right;\n",
       "    }\n",
       "</style>\n",
       "<table border=\"1\" class=\"dataframe\">\n",
       "  <thead>\n",
       "    <tr style=\"text-align: right;\">\n",
       "      <th></th>\n",
       "      <th>imdb_id</th>\n",
       "      <th>adult</th>\n",
       "      <th>backdrop_path</th>\n",
       "      <th>belongs_to_collection</th>\n",
       "      <th>budget</th>\n",
       "      <th>genres</th>\n",
       "      <th>homepage</th>\n",
       "      <th>id</th>\n",
       "      <th>original_language</th>\n",
       "      <th>original_title</th>\n",
       "      <th>overview</th>\n",
       "      <th>popularity</th>\n",
       "      <th>poster_path</th>\n",
       "      <th>production_companies</th>\n",
       "      <th>production_countries</th>\n",
       "      <th>release_date</th>\n",
       "      <th>revenue</th>\n",
       "      <th>runtime</th>\n",
       "      <th>spoken_languages</th>\n",
       "      <th>status</th>\n",
       "      <th>tagline</th>\n",
       "      <th>title</th>\n",
       "      <th>video</th>\n",
       "      <th>vote_average</th>\n",
       "      <th>vote_count</th>\n",
       "      <th>certification</th>\n",
       "    </tr>\n",
       "  </thead>\n",
       "  <tbody>\n",
       "    <tr>\n",
       "      <th>0</th>\n",
       "      <td>0</td>\n",
       "      <td>NaN</td>\n",
       "      <td>NaN</td>\n",
       "      <td>NaN</td>\n",
       "      <td>NaN</td>\n",
       "      <td>NaN</td>\n",
       "      <td>NaN</td>\n",
       "      <td>NaN</td>\n",
       "      <td>NaN</td>\n",
       "      <td>NaN</td>\n",
       "      <td>NaN</td>\n",
       "      <td>NaN</td>\n",
       "      <td>NaN</td>\n",
       "      <td>NaN</td>\n",
       "      <td>NaN</td>\n",
       "      <td>NaN</td>\n",
       "      <td>NaN</td>\n",
       "      <td>NaN</td>\n",
       "      <td>NaN</td>\n",
       "      <td>NaN</td>\n",
       "      <td>NaN</td>\n",
       "      <td>NaN</td>\n",
       "      <td>NaN</td>\n",
       "      <td>NaN</td>\n",
       "      <td>NaN</td>\n",
       "      <td>NaN</td>\n",
       "    </tr>\n",
       "    <tr>\n",
       "      <th>1</th>\n",
       "      <td>tt0113026</td>\n",
       "      <td>0.0</td>\n",
       "      <td>/vMFs7nw6P0bIV1jDsQpxAieAVnH.jpg</td>\n",
       "      <td>NaN</td>\n",
       "      <td>10000000.0</td>\n",
       "      <td>[{'id': 35, 'name': 'Comedy'}, {'id': 10402, '...</td>\n",
       "      <td>NaN</td>\n",
       "      <td>62127.0</td>\n",
       "      <td>en</td>\n",
       "      <td>The Fantasticks</td>\n",
       "      <td>Two rural teens sing and dance their way throu...</td>\n",
       "      <td>2.491</td>\n",
       "      <td>/hfO64mXz3DgUxkBVU7no2UWRP7x.jpg</td>\n",
       "      <td>[{'id': 51207, 'logo_path': None, 'name': 'Sul...</td>\n",
       "      <td>[{'iso_3166_1': 'US', 'name': 'United States o...</td>\n",
       "      <td>2000-09-22</td>\n",
       "      <td>0.0</td>\n",
       "      <td>86.0</td>\n",
       "      <td>[{'english_name': 'English', 'iso_639_1': 'en'...</td>\n",
       "      <td>Released</td>\n",
       "      <td>Try to remember the first time magic happened</td>\n",
       "      <td>The Fantasticks</td>\n",
       "      <td>0.0</td>\n",
       "      <td>5.4</td>\n",
       "      <td>21.0</td>\n",
       "      <td>NaN</td>\n",
       "    </tr>\n",
       "    <tr>\n",
       "      <th>2</th>\n",
       "      <td>tt0113092</td>\n",
       "      <td>0.0</td>\n",
       "      <td>NaN</td>\n",
       "      <td>NaN</td>\n",
       "      <td>0.0</td>\n",
       "      <td>[{'id': 878, 'name': 'Science Fiction'}]</td>\n",
       "      <td>NaN</td>\n",
       "      <td>110977.0</td>\n",
       "      <td>en</td>\n",
       "      <td>For the Cause</td>\n",
       "      <td>Earth is in a state of constant war and two co...</td>\n",
       "      <td>1.974</td>\n",
       "      <td>/h9bWO13nWRGZJo4XVPiElXyrRMU.jpg</td>\n",
       "      <td>[{'id': 7405, 'logo_path': '/rfnws0uY8rsNAsrLb...</td>\n",
       "      <td>[{'iso_3166_1': 'US', 'name': 'United States o...</td>\n",
       "      <td>2000-11-15</td>\n",
       "      <td>0.0</td>\n",
       "      <td>100.0</td>\n",
       "      <td>[{'english_name': 'English', 'iso_639_1': 'en'...</td>\n",
       "      <td>Released</td>\n",
       "      <td>The ultimate showdown on a forbidden planet.</td>\n",
       "      <td>For the Cause</td>\n",
       "      <td>0.0</td>\n",
       "      <td>4.4</td>\n",
       "      <td>7.0</td>\n",
       "      <td>NaN</td>\n",
       "    </tr>\n",
       "    <tr>\n",
       "      <th>3</th>\n",
       "      <td>tt0116391</td>\n",
       "      <td>0.0</td>\n",
       "      <td>NaN</td>\n",
       "      <td>NaN</td>\n",
       "      <td>0.0</td>\n",
       "      <td>[{'id': 18, 'name': 'Drama'}, {'id': 28, 'name...</td>\n",
       "      <td>NaN</td>\n",
       "      <td>442869.0</td>\n",
       "      <td>hi</td>\n",
       "      <td>Gang</td>\n",
       "      <td>After falling prey to underworld, four friends...</td>\n",
       "      <td>1.341</td>\n",
       "      <td>/yB5wRu4uyXXwZA3PEj8cITu0xt3.jpg</td>\n",
       "      <td>[]</td>\n",
       "      <td>[{'iso_3166_1': 'IN', 'name': 'India'}]</td>\n",
       "      <td>2000-04-14</td>\n",
       "      <td>0.0</td>\n",
       "      <td>152.0</td>\n",
       "      <td>[{'english_name': 'Hindi', 'iso_639_1': 'hi', ...</td>\n",
       "      <td>Released</td>\n",
       "      <td>NaN</td>\n",
       "      <td>Gang</td>\n",
       "      <td>0.0</td>\n",
       "      <td>0.0</td>\n",
       "      <td>0.0</td>\n",
       "      <td>NaN</td>\n",
       "    </tr>\n",
       "    <tr>\n",
       "      <th>4</th>\n",
       "      <td>tt0118694</td>\n",
       "      <td>0.0</td>\n",
       "      <td>/n4GJFGzsc7NinI1VeGDXIcQjtU2.jpg</td>\n",
       "      <td>NaN</td>\n",
       "      <td>150000.0</td>\n",
       "      <td>[{'id': 18, 'name': 'Drama'}, {'id': 10749, 'n...</td>\n",
       "      <td>http://www.wkw-inthemoodforlove.com/</td>\n",
       "      <td>843.0</td>\n",
       "      <td>cn</td>\n",
       "      <td>花樣年華</td>\n",
       "      <td>Hong Kong, 1962: Chow Mo-Wan and Su Li-Zhen mo...</td>\n",
       "      <td>22.411</td>\n",
       "      <td>/iYypPT4bhqXfq1b6EnmxvRt6b2Y.jpg</td>\n",
       "      <td>[{'id': 539, 'logo_path': None, 'name': 'Block...</td>\n",
       "      <td>[{'iso_3166_1': 'CN', 'name': 'China'}, {'iso_...</td>\n",
       "      <td>2000-09-29</td>\n",
       "      <td>12854953.0</td>\n",
       "      <td>99.0</td>\n",
       "      <td>[{'english_name': 'Cantonese', 'iso_639_1': 'c...</td>\n",
       "      <td>Released</td>\n",
       "      <td>Feel the heat, keep the feeling burning, let t...</td>\n",
       "      <td>In the Mood for Love</td>\n",
       "      <td>0.0</td>\n",
       "      <td>8.1</td>\n",
       "      <td>1868.0</td>\n",
       "      <td>PG</td>\n",
       "    </tr>\n",
       "    <tr>\n",
       "      <th>...</th>\n",
       "      <td>...</td>\n",
       "      <td>...</td>\n",
       "      <td>...</td>\n",
       "      <td>...</td>\n",
       "      <td>...</td>\n",
       "      <td>...</td>\n",
       "      <td>...</td>\n",
       "      <td>...</td>\n",
       "      <td>...</td>\n",
       "      <td>...</td>\n",
       "      <td>...</td>\n",
       "      <td>...</td>\n",
       "      <td>...</td>\n",
       "      <td>...</td>\n",
       "      <td>...</td>\n",
       "      <td>...</td>\n",
       "      <td>...</td>\n",
       "      <td>...</td>\n",
       "      <td>...</td>\n",
       "      <td>...</td>\n",
       "      <td>...</td>\n",
       "      <td>...</td>\n",
       "      <td>...</td>\n",
       "      <td>...</td>\n",
       "      <td>...</td>\n",
       "      <td>...</td>\n",
       "    </tr>\n",
       "    <tr>\n",
       "      <th>1193</th>\n",
       "      <td>tt6174238</td>\n",
       "      <td>0.0</td>\n",
       "      <td>NaN</td>\n",
       "      <td>{'id': 404302, 'name': 'Cold War Collection', ...</td>\n",
       "      <td>0.0</td>\n",
       "      <td>[{'id': 80, 'name': 'Crime'}]</td>\n",
       "      <td>NaN</td>\n",
       "      <td>223878.0</td>\n",
       "      <td>en</td>\n",
       "      <td>Cold War</td>\n",
       "      <td>Since the death of his wife three years ago, K...</td>\n",
       "      <td>0.913</td>\n",
       "      <td>/4p58ILmqsfPGS9iRCX3riekJt8e.jpg</td>\n",
       "      <td>[]</td>\n",
       "      <td>[{'iso_3166_1': 'HK', 'name': 'Hong Kong'}]</td>\n",
       "      <td>2000-06-17</td>\n",
       "      <td>0.0</td>\n",
       "      <td>0.0</td>\n",
       "      <td>[{'english_name': 'Cantonese', 'iso_639_1': 'c...</td>\n",
       "      <td>Released</td>\n",
       "      <td>NaN</td>\n",
       "      <td>Cold War</td>\n",
       "      <td>0.0</td>\n",
       "      <td>2.0</td>\n",
       "      <td>2.0</td>\n",
       "      <td>NaN</td>\n",
       "    </tr>\n",
       "    <tr>\n",
       "      <th>1194</th>\n",
       "      <td>tt7029820</td>\n",
       "      <td>0.0</td>\n",
       "      <td>NaN</td>\n",
       "      <td>NaN</td>\n",
       "      <td>0.0</td>\n",
       "      <td>[]</td>\n",
       "      <td>NaN</td>\n",
       "      <td>604889.0</td>\n",
       "      <td>en</td>\n",
       "      <td>Scream For Christmas</td>\n",
       "      <td>A Christmas party is interrupted by a violent ...</td>\n",
       "      <td>0.600</td>\n",
       "      <td>NaN</td>\n",
       "      <td>[]</td>\n",
       "      <td>[]</td>\n",
       "      <td>NaN</td>\n",
       "      <td>0.0</td>\n",
       "      <td>80.0</td>\n",
       "      <td>[]</td>\n",
       "      <td>Released</td>\n",
       "      <td>NaN</td>\n",
       "      <td>Scream For Christmas</td>\n",
       "      <td>0.0</td>\n",
       "      <td>0.0</td>\n",
       "      <td>0.0</td>\n",
       "      <td>NaN</td>\n",
       "    </tr>\n",
       "    <tr>\n",
       "      <th>1195</th>\n",
       "      <td>tt7197642</td>\n",
       "      <td>0.0</td>\n",
       "      <td>NaN</td>\n",
       "      <td>NaN</td>\n",
       "      <td>0.0</td>\n",
       "      <td>[{'id': 35, 'name': 'Comedy'}]</td>\n",
       "      <td>NaN</td>\n",
       "      <td>872676.0</td>\n",
       "      <td>en</td>\n",
       "      <td>Goodbye, Merry-Go-Round</td>\n",
       "      <td>Maryland  comedy</td>\n",
       "      <td>0.600</td>\n",
       "      <td>NaN</td>\n",
       "      <td>[]</td>\n",
       "      <td>[{'iso_3166_1': 'US', 'name': 'United States o...</td>\n",
       "      <td>2000-12-12</td>\n",
       "      <td>0.0</td>\n",
       "      <td>90.0</td>\n",
       "      <td>[]</td>\n",
       "      <td>Released</td>\n",
       "      <td>NaN</td>\n",
       "      <td>Goodbye, Merry-Go-Round</td>\n",
       "      <td>0.0</td>\n",
       "      <td>0.0</td>\n",
       "      <td>0.0</td>\n",
       "      <td>NaN</td>\n",
       "    </tr>\n",
       "    <tr>\n",
       "      <th>1196</th>\n",
       "      <td>tt7631368</td>\n",
       "      <td>0.0</td>\n",
       "      <td>/sF0gUHE0YzZNXYugTB2LFxJIppf.jpg</td>\n",
       "      <td>NaN</td>\n",
       "      <td>10000000.0</td>\n",
       "      <td>[{'id': 27, 'name': 'Horror'}]</td>\n",
       "      <td>NaN</td>\n",
       "      <td>97186.0</td>\n",
       "      <td>fr</td>\n",
       "      <td>I, Vampire</td>\n",
       "      <td>A sensual trilogy of vampire stories from Wiza...</td>\n",
       "      <td>0.987</td>\n",
       "      <td>/cl47LE7zYELjTzH7gfyvzBrCG5W.jpg</td>\n",
       "      <td>[]</td>\n",
       "      <td>[]</td>\n",
       "      <td>2000-10-17</td>\n",
       "      <td>0.0</td>\n",
       "      <td>85.0</td>\n",
       "      <td>[{'english_name': 'English', 'iso_639_1': 'en'...</td>\n",
       "      <td>Released</td>\n",
       "      <td>NaN</td>\n",
       "      <td>I, Vampire</td>\n",
       "      <td>0.0</td>\n",
       "      <td>6.4</td>\n",
       "      <td>4.0</td>\n",
       "      <td>NR</td>\n",
       "    </tr>\n",
       "    <tr>\n",
       "      <th>1197</th>\n",
       "      <td>tt7802790</td>\n",
       "      <td>0.0</td>\n",
       "      <td>/etxml2M8GQzb31jcH0cdA489WCX.jpg</td>\n",
       "      <td>NaN</td>\n",
       "      <td>0.0</td>\n",
       "      <td>[{'id': 35, 'name': 'Comedy'}, {'id': 80, 'nam...</td>\n",
       "      <td>NaN</td>\n",
       "      <td>610992.0</td>\n",
       "      <td>fa</td>\n",
       "      <td>مومیایی ۳</td>\n",
       "      <td>Officer Ghorbani is a good and on time police ...</td>\n",
       "      <td>1.121</td>\n",
       "      <td>/3GLAvhgHNpJzB1FgD1qh00qDxPG.jpg</td>\n",
       "      <td>[{'id': 119987, 'logo_path': None, 'name': 'Ha...</td>\n",
       "      <td>[{'iso_3166_1': 'IR', 'name': 'Iran'}]</td>\n",
       "      <td>2000-02-01</td>\n",
       "      <td>0.0</td>\n",
       "      <td>98.0</td>\n",
       "      <td>[{'english_name': 'Persian', 'iso_639_1': 'fa'...</td>\n",
       "      <td>Released</td>\n",
       "      <td>NaN</td>\n",
       "      <td>The Mummy 3</td>\n",
       "      <td>0.0</td>\n",
       "      <td>7.0</td>\n",
       "      <td>1.0</td>\n",
       "      <td>NaN</td>\n",
       "    </tr>\n",
       "  </tbody>\n",
       "</table>\n",
       "<p>1198 rows × 26 columns</p>\n",
       "</div>"
      ],
      "text/plain": [
       "        imdb_id  adult                     backdrop_path  \\\n",
       "0             0    NaN                               NaN   \n",
       "1     tt0113026    0.0  /vMFs7nw6P0bIV1jDsQpxAieAVnH.jpg   \n",
       "2     tt0113092    0.0                               NaN   \n",
       "3     tt0116391    0.0                               NaN   \n",
       "4     tt0118694    0.0  /n4GJFGzsc7NinI1VeGDXIcQjtU2.jpg   \n",
       "...         ...    ...                               ...   \n",
       "1193  tt6174238    0.0                               NaN   \n",
       "1194  tt7029820    0.0                               NaN   \n",
       "1195  tt7197642    0.0                               NaN   \n",
       "1196  tt7631368    0.0  /sF0gUHE0YzZNXYugTB2LFxJIppf.jpg   \n",
       "1197  tt7802790    0.0  /etxml2M8GQzb31jcH0cdA489WCX.jpg   \n",
       "\n",
       "                                  belongs_to_collection      budget  \\\n",
       "0                                                   NaN         NaN   \n",
       "1                                                   NaN  10000000.0   \n",
       "2                                                   NaN         0.0   \n",
       "3                                                   NaN         0.0   \n",
       "4                                                   NaN    150000.0   \n",
       "...                                                 ...         ...   \n",
       "1193  {'id': 404302, 'name': 'Cold War Collection', ...         0.0   \n",
       "1194                                                NaN         0.0   \n",
       "1195                                                NaN         0.0   \n",
       "1196                                                NaN  10000000.0   \n",
       "1197                                                NaN         0.0   \n",
       "\n",
       "                                                 genres  \\\n",
       "0                                                   NaN   \n",
       "1     [{'id': 35, 'name': 'Comedy'}, {'id': 10402, '...   \n",
       "2              [{'id': 878, 'name': 'Science Fiction'}]   \n",
       "3     [{'id': 18, 'name': 'Drama'}, {'id': 28, 'name...   \n",
       "4     [{'id': 18, 'name': 'Drama'}, {'id': 10749, 'n...   \n",
       "...                                                 ...   \n",
       "1193                      [{'id': 80, 'name': 'Crime'}]   \n",
       "1194                                                 []   \n",
       "1195                     [{'id': 35, 'name': 'Comedy'}]   \n",
       "1196                     [{'id': 27, 'name': 'Horror'}]   \n",
       "1197  [{'id': 35, 'name': 'Comedy'}, {'id': 80, 'nam...   \n",
       "\n",
       "                                  homepage        id original_language  \\\n",
       "0                                      NaN       NaN               NaN   \n",
       "1                                      NaN   62127.0                en   \n",
       "2                                      NaN  110977.0                en   \n",
       "3                                      NaN  442869.0                hi   \n",
       "4     http://www.wkw-inthemoodforlove.com/     843.0                cn   \n",
       "...                                    ...       ...               ...   \n",
       "1193                                   NaN  223878.0                en   \n",
       "1194                                   NaN  604889.0                en   \n",
       "1195                                   NaN  872676.0                en   \n",
       "1196                                   NaN   97186.0                fr   \n",
       "1197                                   NaN  610992.0                fa   \n",
       "\n",
       "               original_title  \\\n",
       "0                         NaN   \n",
       "1             The Fantasticks   \n",
       "2               For the Cause   \n",
       "3                        Gang   \n",
       "4                        花樣年華   \n",
       "...                       ...   \n",
       "1193                 Cold War   \n",
       "1194     Scream For Christmas   \n",
       "1195  Goodbye, Merry-Go-Round   \n",
       "1196               I, Vampire   \n",
       "1197                مومیایی ۳   \n",
       "\n",
       "                                               overview  popularity  \\\n",
       "0                                                   NaN         NaN   \n",
       "1     Two rural teens sing and dance their way throu...       2.491   \n",
       "2     Earth is in a state of constant war and two co...       1.974   \n",
       "3     After falling prey to underworld, four friends...       1.341   \n",
       "4     Hong Kong, 1962: Chow Mo-Wan and Su Li-Zhen mo...      22.411   \n",
       "...                                                 ...         ...   \n",
       "1193  Since the death of his wife three years ago, K...       0.913   \n",
       "1194  A Christmas party is interrupted by a violent ...       0.600   \n",
       "1195                                   Maryland  comedy       0.600   \n",
       "1196  A sensual trilogy of vampire stories from Wiza...       0.987   \n",
       "1197  Officer Ghorbani is a good and on time police ...       1.121   \n",
       "\n",
       "                           poster_path  \\\n",
       "0                                  NaN   \n",
       "1     /hfO64mXz3DgUxkBVU7no2UWRP7x.jpg   \n",
       "2     /h9bWO13nWRGZJo4XVPiElXyrRMU.jpg   \n",
       "3     /yB5wRu4uyXXwZA3PEj8cITu0xt3.jpg   \n",
       "4     /iYypPT4bhqXfq1b6EnmxvRt6b2Y.jpg   \n",
       "...                                ...   \n",
       "1193  /4p58ILmqsfPGS9iRCX3riekJt8e.jpg   \n",
       "1194                               NaN   \n",
       "1195                               NaN   \n",
       "1196  /cl47LE7zYELjTzH7gfyvzBrCG5W.jpg   \n",
       "1197  /3GLAvhgHNpJzB1FgD1qh00qDxPG.jpg   \n",
       "\n",
       "                                   production_companies  \\\n",
       "0                                                   NaN   \n",
       "1     [{'id': 51207, 'logo_path': None, 'name': 'Sul...   \n",
       "2     [{'id': 7405, 'logo_path': '/rfnws0uY8rsNAsrLb...   \n",
       "3                                                    []   \n",
       "4     [{'id': 539, 'logo_path': None, 'name': 'Block...   \n",
       "...                                                 ...   \n",
       "1193                                                 []   \n",
       "1194                                                 []   \n",
       "1195                                                 []   \n",
       "1196                                                 []   \n",
       "1197  [{'id': 119987, 'logo_path': None, 'name': 'Ha...   \n",
       "\n",
       "                                   production_countries release_date  \\\n",
       "0                                                   NaN          NaN   \n",
       "1     [{'iso_3166_1': 'US', 'name': 'United States o...   2000-09-22   \n",
       "2     [{'iso_3166_1': 'US', 'name': 'United States o...   2000-11-15   \n",
       "3               [{'iso_3166_1': 'IN', 'name': 'India'}]   2000-04-14   \n",
       "4     [{'iso_3166_1': 'CN', 'name': 'China'}, {'iso_...   2000-09-29   \n",
       "...                                                 ...          ...   \n",
       "1193        [{'iso_3166_1': 'HK', 'name': 'Hong Kong'}]   2000-06-17   \n",
       "1194                                                 []          NaN   \n",
       "1195  [{'iso_3166_1': 'US', 'name': 'United States o...   2000-12-12   \n",
       "1196                                                 []   2000-10-17   \n",
       "1197             [{'iso_3166_1': 'IR', 'name': 'Iran'}]   2000-02-01   \n",
       "\n",
       "         revenue  runtime                                   spoken_languages  \\\n",
       "0            NaN      NaN                                                NaN   \n",
       "1            0.0     86.0  [{'english_name': 'English', 'iso_639_1': 'en'...   \n",
       "2            0.0    100.0  [{'english_name': 'English', 'iso_639_1': 'en'...   \n",
       "3            0.0    152.0  [{'english_name': 'Hindi', 'iso_639_1': 'hi', ...   \n",
       "4     12854953.0     99.0  [{'english_name': 'Cantonese', 'iso_639_1': 'c...   \n",
       "...          ...      ...                                                ...   \n",
       "1193         0.0      0.0  [{'english_name': 'Cantonese', 'iso_639_1': 'c...   \n",
       "1194         0.0     80.0                                                 []   \n",
       "1195         0.0     90.0                                                 []   \n",
       "1196         0.0     85.0  [{'english_name': 'English', 'iso_639_1': 'en'...   \n",
       "1197         0.0     98.0  [{'english_name': 'Persian', 'iso_639_1': 'fa'...   \n",
       "\n",
       "        status                                            tagline  \\\n",
       "0          NaN                                                NaN   \n",
       "1     Released      Try to remember the first time magic happened   \n",
       "2     Released       The ultimate showdown on a forbidden planet.   \n",
       "3     Released                                                NaN   \n",
       "4     Released  Feel the heat, keep the feeling burning, let t...   \n",
       "...        ...                                                ...   \n",
       "1193  Released                                                NaN   \n",
       "1194  Released                                                NaN   \n",
       "1195  Released                                                NaN   \n",
       "1196  Released                                                NaN   \n",
       "1197  Released                                                NaN   \n",
       "\n",
       "                        title  video  vote_average  vote_count certification  \n",
       "0                         NaN    NaN           NaN         NaN           NaN  \n",
       "1             The Fantasticks    0.0           5.4        21.0           NaN  \n",
       "2               For the Cause    0.0           4.4         7.0           NaN  \n",
       "3                        Gang    0.0           0.0         0.0           NaN  \n",
       "4        In the Mood for Love    0.0           8.1      1868.0            PG  \n",
       "...                       ...    ...           ...         ...           ...  \n",
       "1193                 Cold War    0.0           2.0         2.0           NaN  \n",
       "1194     Scream For Christmas    0.0           0.0         0.0           NaN  \n",
       "1195  Goodbye, Merry-Go-Round    0.0           0.0         0.0           NaN  \n",
       "1196               I, Vampire    0.0           6.4         4.0            NR  \n",
       "1197              The Mummy 3    0.0           7.0         1.0           NaN  \n",
       "\n",
       "[1198 rows x 26 columns]"
      ]
     },
     "execution_count": 7,
     "metadata": {},
     "output_type": "execute_result"
    }
   ],
   "source": [
    "## Try loading in the first .csv.gz file from the list\n",
    "pd.read_csv(FOLDER+file_list[3])"
   ]
  },
  {
   "cell_type": "markdown",
   "id": "d69e4c80",
   "metadata": {},
   "source": [
    "> Why isn't it working?"
   ]
  },
  {
   "cell_type": "code",
   "execution_count": 17,
   "id": "5e08745e",
   "metadata": {},
   "outputs": [],
   "source": [
    "import glob\n",
    "## let's check the filepath \n"
   ]
  },
  {
   "cell_type": "code",
   "execution_count": 18,
   "id": "02f97f6a",
   "metadata": {},
   "outputs": [],
   "source": [
    "## add the folder plus filename"
   ]
  },
  {
   "cell_type": "code",
   "execution_count": null,
   "id": "d88d81ca",
   "metadata": {},
   "outputs": [],
   "source": [
    "## try read csv with folder plus filename\n"
   ]
  },
  {
   "cell_type": "markdown",
   "id": "ebce0f60",
   "metadata": {},
   "source": [
    "- Now we would do that in a loop, and only want to open .csv.gz.\n",
    "- But there is a better way!\n",
    ">- Introducing `glob`\n",
    "    - Glob takes a filepath/query and will find every filename that matches the pattern provided.\n",
    "    - We use asterisks as wildcards in our query.\n",
    "    \n"
   ]
  },
  {
   "cell_type": "code",
   "execution_count": null,
   "id": "d5240524",
   "metadata": {},
   "outputs": [],
   "source": [
    "import glob\n",
    "## Make a filepath query\n",
    "q = FOLDER+\"final*.csv.gz\"\n",
    "print(q)\n",
    "file_list = sorted(glob.glob(q))\n",
    "file_list"
   ]
  },
  {
   "cell_type": "code",
   "execution_count": null,
   "id": "1cec2290",
   "metadata": {},
   "outputs": [],
   "source": [
    "# Use glob.glob to get COMPLETE filepaths\n",
    "q = FOLDER+\"/**/final*.csv.gz\"\n",
    "print(q)\n",
    "file_list = sorted(glob.glob(q, recursive=True))\n",
    "file_list"
   ]
  },
  {
   "cell_type": "code",
   "execution_count": null,
   "id": "13275d3f",
   "metadata": {},
   "outputs": [],
   "source": [
    "# Use glob.glob to get COMPLETE filepaths\n"
   ]
  },
  {
   "cell_type": "markdown",
   "id": "93af6a0c",
   "metadata": {},
   "source": [
    "> But where are the rest of the years?"
   ]
  },
  {
   "cell_type": "code",
   "execution_count": null,
   "id": "a8396d70",
   "metadata": {},
   "outputs": [],
   "source": [
    "## in a sub-folder\n"
   ]
  },
  {
   "cell_type": "markdown",
   "id": "e7c3f096",
   "metadata": {},
   "source": [
    "- Recursive Searching with glob.\n",
    "    - add a `**/` in the middle of your query to grab any matches from all subfolders. "
   ]
  },
  {
   "cell_type": "code",
   "execution_count": null,
   "id": "60c6c8a8",
   "metadata": {},
   "outputs": [],
   "source": [
    "# Use glob.glob to get COMPLETE filepaths\n"
   ]
  },
  {
   "cell_type": "code",
   "execution_count": 24,
   "id": "33076ffe",
   "metadata": {},
   "outputs": [
    {
     "ename": "AttributeError",
     "evalue": "'DataFrame' object has no attribute 'read_csv'",
     "output_type": "error",
     "traceback": [
      "\u001b[1;31m---------------------------------------------------------------------------\u001b[0m",
      "\u001b[1;31mAttributeError\u001b[0m                            Traceback (most recent call last)",
      "\u001b[1;32m~\\AppData\\Local\\Temp\\ipykernel_22312\\46829084.py\u001b[0m in \u001b[0;36m<module>\u001b[1;34m\u001b[0m\n\u001b[0;32m      3\u001b[0m \u001b[1;33m\u001b[0m\u001b[0m\n\u001b[0;32m      4\u001b[0m \u001b[1;32mfor\u001b[0m  \u001b[0mfile\u001b[0m \u001b[1;32min\u001b[0m \u001b[0mfile_list\u001b[0m\u001b[1;33m:\u001b[0m\u001b[1;33m\u001b[0m\u001b[1;33m\u001b[0m\u001b[0m\n\u001b[1;32m----> 5\u001b[1;33m     \u001b[0mdf\u001b[0m \u001b[1;33m=\u001b[0m \u001b[0mpd\u001b[0m\u001b[1;33m.\u001b[0m\u001b[0mread_csv\u001b[0m\u001b[1;33m(\u001b[0m\u001b[0mfile\u001b[0m\u001b[1;33m,\u001b[0m \u001b[0mlineterminator\u001b[0m \u001b[1;33m=\u001b[0m \u001b[1;34m\"\\n\"\u001b[0m\u001b[1;33m)\u001b[0m\u001b[1;33m\u001b[0m\u001b[1;33m\u001b[0m\u001b[0m\n\u001b[0m\u001b[0;32m      6\u001b[0m     \u001b[0mdf_list\u001b[0m\u001b[1;33m.\u001b[0m\u001b[0mappend\u001b[0m\u001b[1;33m(\u001b[0m\u001b[0mdf\u001b[0m\u001b[1;33m)\u001b[0m\u001b[1;33m\u001b[0m\u001b[1;33m\u001b[0m\u001b[0m\n\u001b[0;32m      7\u001b[0m \u001b[1;33m\u001b[0m\u001b[0m\n",
      "\u001b[1;32mG:\\Program Files (x86)\\anaconda3\\envs\\dojo-env\\lib\\site-packages\\pandas\\core\\generic.py\u001b[0m in \u001b[0;36m__getattr__\u001b[1;34m(self, name)\u001b[0m\n\u001b[0;32m   5485\u001b[0m         ):\n\u001b[0;32m   5486\u001b[0m             \u001b[1;32mreturn\u001b[0m \u001b[0mself\u001b[0m\u001b[1;33m[\u001b[0m\u001b[0mname\u001b[0m\u001b[1;33m]\u001b[0m\u001b[1;33m\u001b[0m\u001b[1;33m\u001b[0m\u001b[0m\n\u001b[1;32m-> 5487\u001b[1;33m         \u001b[1;32mreturn\u001b[0m \u001b[0mobject\u001b[0m\u001b[1;33m.\u001b[0m\u001b[0m__getattribute__\u001b[0m\u001b[1;33m(\u001b[0m\u001b[0mself\u001b[0m\u001b[1;33m,\u001b[0m \u001b[0mname\u001b[0m\u001b[1;33m)\u001b[0m\u001b[1;33m\u001b[0m\u001b[1;33m\u001b[0m\u001b[0m\n\u001b[0m\u001b[0;32m   5488\u001b[0m \u001b[1;33m\u001b[0m\u001b[0m\n\u001b[0;32m   5489\u001b[0m     \u001b[1;32mdef\u001b[0m \u001b[0m__setattr__\u001b[0m\u001b[1;33m(\u001b[0m\u001b[0mself\u001b[0m\u001b[1;33m,\u001b[0m \u001b[0mname\u001b[0m\u001b[1;33m:\u001b[0m \u001b[0mstr\u001b[0m\u001b[1;33m,\u001b[0m \u001b[0mvalue\u001b[0m\u001b[1;33m)\u001b[0m \u001b[1;33m->\u001b[0m \u001b[1;32mNone\u001b[0m\u001b[1;33m:\u001b[0m\u001b[1;33m\u001b[0m\u001b[1;33m\u001b[0m\u001b[0m\n",
      "\u001b[1;31mAttributeError\u001b[0m: 'DataFrame' object has no attribute 'read_csv'"
     ]
    }
   ],
   "source": [
    "# ## use a list comprehension to load in all files into 1 dataframe\n",
    "df_list = []\n",
    "\n",
    "for  file in file_list:\n",
    "    df = pd.read_csv(file, lineterminator = \"\\n\")\n",
    "    df_list.append(df)\n",
    "    \n",
    "pd = pd.concat(df_list)\n",
    "df.reset_index(inplace = True, drop = True)\n",
    "# df"
   ]
  },
  {
   "cell_type": "markdown",
   "id": "85cbcbd5",
   "metadata": {},
   "source": [
    "- Dealing with ParserErrors with \"possibly malformed files\"\n",
    "\n",
    "    - for a reason I do not fully understand yet, some of the files I downloaded error if I try to read them.\n",
    "        - \"ParserError: Error tokenizing data. C error: Buffer overflow caught - possible malformed input file.`\n",
    "    - After some googling, the fix was to add `lineterminator='\\n'` to pd.read_csv\n"
   ]
  },
  {
   "cell_type": "code",
   "execution_count": null,
   "id": "7a4d31e3",
   "metadata": {},
   "outputs": [],
   "source": [
    "## use a list comprehension to load in all files into 1 dataframe\n",
    "[pd.read_csv]"
   ]
  },
  {
   "cell_type": "code",
   "execution_count": null,
   "id": "7d951889",
   "metadata": {},
   "outputs": [],
   "source": [
    "# remove ids that are 0  and then reset index\n"
   ]
  },
  {
   "cell_type": "code",
   "execution_count": null,
   "id": "faffae56",
   "metadata": {},
   "outputs": [],
   "source": [
    "## saving the combined csv to disk\n"
   ]
  },
  {
   "cell_type": "markdown",
   "id": "7635b936",
   "metadata": {},
   "source": [
    "# Preprocessing"
   ]
  },
  {
   "cell_type": "code",
   "execution_count": null,
   "id": "139af284",
   "metadata": {},
   "outputs": [],
   "source": [
    "## Columns to exclude\n",
    "drop_cols = ['backdrop_path','backdrop_path','original_title','overview',\n",
    "                 'poster_path','status','tagline','id','homepage',\n",
    "                 'production_countries','video','production_companies','spoken_languages',\n",
    "            'original_language']\n",
    "\n",
    "## drop columns"
   ]
  },
  {
   "cell_type": "markdown",
   "id": "bd187327",
   "metadata": {},
   "source": [
    "## Feature Engineering\n"
   ]
  },
  {
   "cell_type": "markdown",
   "id": "5a013019",
   "metadata": {},
   "source": [
    "- belongs to collection: convert to boolean\n",
    "- Genres: get just name and manually OHE\n",
    "- Cleaning Categories in Certification\n",
    "- Converting release date to year, month, and day."
   ]
  },
  {
   "cell_type": "markdown",
   "id": "bcdcc8bc",
   "metadata": {},
   "source": [
    "### belongs to collection"
   ]
  },
  {
   "cell_type": "code",
   "execution_count": null,
   "id": "266c94ef",
   "metadata": {},
   "outputs": [],
   "source": [
    "# there are 3,700+ movies that belong to collections\n"
   ]
  },
  {
   "cell_type": "code",
   "execution_count": null,
   "id": "426f3290",
   "metadata": {},
   "outputs": [],
   "source": [
    "## Use .notna() to get True if it belongs to a collection\n"
   ]
  },
  {
   "cell_type": "markdown",
   "id": "98bbc083",
   "metadata": {},
   "source": [
    "### genre"
   ]
  },
  {
   "cell_type": "code",
   "execution_count": null,
   "id": "a80aa21d",
   "metadata": {},
   "outputs": [],
   "source": [
    "## Function to get just the genre names as a list \n",
    "import json\n",
    "def get_genre_name(x):\n",
    "    x = x.replace(\"'\",'\"')\n",
    "    x = json.loads(x)\n",
    "    \n",
    "    genres = []\n",
    "    for genre in x:\n",
    "        genres.append(genre['name'])\n",
    "    return genres"
   ]
  },
  {
   "cell_type": "code",
   "execution_count": null,
   "id": "d041b3f6",
   "metadata": {},
   "outputs": [],
   "source": [
    "## Use our function and exploding the new column\n"
   ]
  },
  {
   "cell_type": "code",
   "execution_count": null,
   "id": "5f0f8415",
   "metadata": {},
   "outputs": [],
   "source": [
    "## save unique genres\n"
   ]
  },
  {
   "cell_type": "code",
   "execution_count": null,
   "id": "9a800f51",
   "metadata": {},
   "outputs": [],
   "source": [
    "## Manually One-Hot-Encode Genres\n"
   ]
  },
  {
   "cell_type": "code",
   "execution_count": null,
   "id": "49c309ee",
   "metadata": {},
   "outputs": [],
   "source": [
    "## Drop original genre cols\n"
   ]
  },
  {
   "cell_type": "markdown",
   "id": "5a82657d",
   "metadata": {},
   "source": [
    "### certification"
   ]
  },
  {
   "cell_type": "code",
   "execution_count": null,
   "id": "5a425c38",
   "metadata": {},
   "outputs": [],
   "source": [
    "## Checking Certification values counts\n"
   ]
  },
  {
   "cell_type": "code",
   "execution_count": null,
   "id": "244ebf01",
   "metadata": {},
   "outputs": [],
   "source": [
    "# fix extra space certs\n"
   ]
  },
  {
   "cell_type": "code",
   "execution_count": null,
   "id": "4e3e4c27",
   "metadata": {},
   "outputs": [],
   "source": [
    "## fix certification col\n",
    "repl_cert = {'UR':'NR',\n",
    "             'Not Rated':'NR',\n",
    "             'Unrated':'NR',\n",
    "             '-':'NR',\n",
    "             '10':np.nan,\n",
    "             'ScreamFest Horror Film Festival':'NR'}\n"
   ]
  },
  {
   "cell_type": "markdown",
   "id": "f1ba94be",
   "metadata": {},
   "source": [
    "### Converting year to sep features"
   ]
  },
  {
   "cell_type": "code",
   "execution_count": null,
   "id": "aefffc87",
   "metadata": {},
   "outputs": [],
   "source": [
    "## split release date into 3 columns\n"
   ]
  },
  {
   "cell_type": "code",
   "execution_count": null,
   "id": "8190890c",
   "metadata": {},
   "outputs": [],
   "source": [
    "## drop original feature\n"
   ]
  },
  {
   "cell_type": "markdown",
   "id": "1d9ac1fe",
   "metadata": {},
   "source": [
    "## Train Test Split"
   ]
  },
  {
   "cell_type": "code",
   "execution_count": null,
   "id": "3bead459",
   "metadata": {},
   "outputs": [],
   "source": [
    "df.info()"
   ]
  },
  {
   "cell_type": "code",
   "execution_count": null,
   "id": "8d644de0",
   "metadata": {},
   "outputs": [],
   "source": [
    "## Make x and y variables\n",
    "drop_for_model = ['title','imdb_id']\n",
    "\n",
    "y = df['revenue'].copy()\n",
    "X = df.drop(columns=['revenue',*drop_for_model]).copy()\n",
    "\n",
    "X_train, X_test, y_train, y_test = train_test_split(X,y)#, random_state=321)\n",
    "X_train.head()"
   ]
  },
  {
   "cell_type": "code",
   "execution_count": null,
   "id": "3b38430d",
   "metadata": {},
   "outputs": [],
   "source": [
    "X_train.isna().sum()"
   ]
  },
  {
   "cell_type": "code",
   "execution_count": null,
   "id": "c6b434dc",
   "metadata": {},
   "outputs": [],
   "source": [
    "## make cat selector and using it to save list of column names\n",
    "cat_select = make_column_selector(dtype_include='object')\n",
    "cat_cols = cat_select(X_train)\n",
    "cat_cols"
   ]
  },
  {
   "cell_type": "code",
   "execution_count": null,
   "id": "1b55680c",
   "metadata": {},
   "outputs": [],
   "source": [
    "## select manually OHE cols for later\n",
    "bool_select = make_column_selector(dtype_include='bool')\n",
    "already_ohe_cols = bool_select(X_train)\n",
    "already_ohe_cols"
   ]
  },
  {
   "cell_type": "code",
   "execution_count": null,
   "id": "44e9975e",
   "metadata": {},
   "outputs": [],
   "source": [
    "## convert manual ohe to int\n",
    "X_train[already_ohe_cols] = X_train[already_ohe_cols].astype(int)\n",
    "X_test[already_ohe_cols] = X_test[already_ohe_cols].astype(int)"
   ]
  },
  {
   "cell_type": "code",
   "execution_count": null,
   "id": "09062777",
   "metadata": {},
   "outputs": [],
   "source": [
    "## make num selector and using it to save list of column names\n",
    "num_select = make_column_selector(dtype_include='number')\n",
    "num_cols = num_select(X_train)\n",
    "num_cols"
   ]
  },
  {
   "cell_type": "code",
   "execution_count": null,
   "id": "083ffcb4",
   "metadata": {},
   "outputs": [],
   "source": [
    "## make pipelines\n",
    "cat_pipe = make_pipeline(SimpleImputer(strategy='constant',\n",
    "                                       fill_value='MISSING'),\n",
    "                         OneHotEncoder(handle_unknown='ignore', sparse=False))\n",
    "num_pipe = make_pipeline(SimpleImputer(strategy='mean'),#StandardScaler()\n",
    "                        )\n",
    "\n",
    "preprocessor = make_column_transformer((cat_pipe,cat_cols),\n",
    "                                        (num_pipe, num_cols),\n",
    "                                       ('passthrough',already_ohe_cols))# remainder='passthrough')\n",
    "preprocessor"
   ]
  },
  {
   "cell_type": "code",
   "execution_count": null,
   "id": "492d218e",
   "metadata": {},
   "outputs": [],
   "source": [
    "## fit the col transformer\n",
    "preprocessor.fit(X_train)\n",
    "\n",
    "## Finding the categorical pipeline in our col transformer.\n",
    "preprocessor.named_transformers_['pipeline-1']"
   ]
  },
  {
   "cell_type": "code",
   "execution_count": null,
   "id": "3323c10f",
   "metadata": {},
   "outputs": [],
   "source": [
    "## B) Using list-slicing to find the encoder \n",
    "cat_features = preprocessor.named_transformers_['pipeline-1'][-1].get_feature_names_out(cat_cols)\n",
    "\n",
    "## Create the empty list\n",
    "final_features = [*cat_features,*num_cols,*already_ohe_cols]\n",
    "len(final_features)"
   ]
  },
  {
   "cell_type": "code",
   "execution_count": null,
   "id": "62437d0c",
   "metadata": {},
   "outputs": [],
   "source": [
    "## checking shape matches len final features\n",
    "preprocessor.transform(X_train).shape"
   ]
  },
  {
   "cell_type": "code",
   "execution_count": null,
   "id": "2c1742cc",
   "metadata": {},
   "outputs": [],
   "source": [
    "## make X_train_tf \n",
    "X_train_tf = pd.DataFrame( preprocessor.transform(X_train), \n",
    "                          columns=final_features, index=X_train.index)\n",
    "X_train_tf.head()"
   ]
  },
  {
   "cell_type": "code",
   "execution_count": null,
   "id": "e208b3ae",
   "metadata": {},
   "outputs": [],
   "source": [
    "## make X_test_tf \n",
    "\n",
    "X_test_tf = pd.DataFrame( preprocessor.transform(X_test), \n",
    "                         columns=final_features, index=X_test.index)\n",
    "X_test_tf.head()"
   ]
  },
  {
   "cell_type": "markdown",
   "id": "acb8203f",
   "metadata": {},
   "source": [
    "### Adding a Constant for Statsmodels"
   ]
  },
  {
   "cell_type": "code",
   "execution_count": null,
   "id": "20ebc9f8",
   "metadata": {},
   "outputs": [],
   "source": [
    "##import statsmodels correctly\n"
   ]
  },
  {
   "cell_type": "markdown",
   "id": "729495f6",
   "metadata": {},
   "source": [
    "> Tip: make sure that add_constant actually added a new column! You may need to change the parameter `has_constant` to \"add\""
   ]
  },
  {
   "cell_type": "code",
   "execution_count": null,
   "id": "3e637869",
   "metadata": {},
   "outputs": [],
   "source": [
    "## Make final X_train_df and X_test_df with constants added\n"
   ]
  },
  {
   "cell_type": "markdown",
   "id": "342d1f5f",
   "metadata": {},
   "source": [
    "# Modeling"
   ]
  },
  {
   "cell_type": "markdown",
   "id": "fc1c27c0",
   "metadata": {},
   "source": [
    "## Statsmodels OLS"
   ]
  },
  {
   "cell_type": "code",
   "execution_count": null,
   "id": "48d0736a",
   "metadata": {
    "scrolled": false
   },
   "outputs": [],
   "source": [
    "## instantiate an OLS model WITH the training data.\n",
    "\n",
    "## Fit the model and view the summary\n"
   ]
  },
  {
   "cell_type": "code",
   "execution_count": null,
   "id": "676327d7",
   "metadata": {},
   "outputs": [],
   "source": [
    "## Get train data performance from skearn to confirm matches OLS\n",
    "\n",
    "\n",
    "## Get test data performance\n"
   ]
  },
  {
   "cell_type": "markdown",
   "id": "f1b994cb",
   "metadata": {},
   "source": [
    "# The Assumptions of Linear Regression"
   ]
  },
  {
   "cell_type": "markdown",
   "id": "a37fba73",
   "metadata": {},
   "source": [
    "- The 4 Assumptions of a Linear Regression are:\n",
    "    - Linearity: That the input features have a linear relationship with the target.\n",
    "    - Independence of features (AKA Little-to-No Multicollinearity): That the features are not strongly related to other features.\n",
    "    - **Normality: The model's residuals are approximately normally distributed.**\n",
    "    - **Homoscedasticity: The model residuals have equal variance across all predictions.**\n"
   ]
  },
  {
   "cell_type": "markdown",
   "id": "9ebcb7bf",
   "metadata": {},
   "source": [
    "### QQ-Plot for Checking for Normality"
   ]
  },
  {
   "cell_type": "code",
   "execution_count": null,
   "id": "058f7154",
   "metadata": {},
   "outputs": [],
   "source": [
    "## Create a Q-QPlot\n",
    "\n",
    "# first calculate residuals \n",
    "\n",
    "\n",
    "## then use sm's qqplot\n"
   ]
  },
  {
   "cell_type": "markdown",
   "id": "687e656b",
   "metadata": {},
   "source": [
    "### Residual Plot for Checking Homoscedasticity"
   ]
  },
  {
   "cell_type": "code",
   "execution_count": null,
   "id": "58277dcd",
   "metadata": {},
   "outputs": [],
   "source": [
    "## Plot scatterplot with y_hat_test vs resids\n"
   ]
  },
  {
   "cell_type": "markdown",
   "id": "53b1aaf5",
   "metadata": {},
   "source": [
    "### Putting it all together"
   ]
  },
  {
   "cell_type": "code",
   "execution_count": null,
   "id": "350262af",
   "metadata": {},
   "outputs": [],
   "source": [
    "def evaluate_ols(result,X_train_df, y_train):\n",
    "    \"\"\"Plots a Q-Q Plot and residual plot for a statsmodels OLS regression.\n",
    "    \"\"\"\n",
    "    \n",
    "    ## save residuals from result\n",
    "    y_pred = result.predict(X_train_df)\n",
    "    resid = y_train - y_pred\n",
    "    \n",
    "    fig, axes = plt.subplots(ncols=2,figsize=(12,5))\n",
    "    \n",
    "    ## Normality \n",
    "    sm.graphics.qqplot(resid,line='45',fit=True,ax=axes[0]);\n",
    "    \n",
    "    ## Homoscedasticity\n",
    "    ax = axes[1]\n",
    "    ax.scatter(y_pred, resid, edgecolor='white',lw=1)\n",
    "    ax.axhline(0,zorder=0)\n",
    "    ax.set(ylabel='Residuals',xlabel='Predicted Value');\n",
    "    plt.tight_layout()\n",
    "    \n",
    "evaluate_ols(result,X_train_df, y_train)\n",
    "\n"
   ]
  },
  {
   "cell_type": "markdown",
   "id": "416c32a9",
   "metadata": {},
   "source": [
    "> Next class: iterating on our model & interpreting coefficients"
   ]
  }
 ],
 "metadata": {
  "kernelspec": {
   "display_name": "Python (dojo-env)",
   "language": "python",
   "name": "dojo-env"
  },
  "language_info": {
   "codemirror_mode": {
    "name": "ipython",
    "version": 3
   },
   "file_extension": ".py",
   "mimetype": "text/x-python",
   "name": "python",
   "nbconvert_exporter": "python",
   "pygments_lexer": "ipython3",
   "version": "3.7.12"
  },
  "toc": {
   "base_numbering": 1,
   "nav_menu": {},
   "number_sections": false,
   "sideBar": true,
   "skip_h1_title": false,
   "title_cell": "Table of Contents",
   "title_sidebar": "Contents",
   "toc_cell": false,
   "toc_position": {
    "height": "calc(100% - 180px)",
    "left": "10px",
    "top": "150px",
    "width": "271.996px"
   },
   "toc_section_display": true,
   "toc_window_display": true
  }
 },
 "nbformat": 4,
 "nbformat_minor": 5
}
