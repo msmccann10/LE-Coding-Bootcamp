{
  "nbformat": 4,
  "nbformat_minor": 0,
  "metadata": {
    "colab": {
      "name": "Basics - Strings",
      "provenance": [],
      "collapsed_sections": []
    },
    "kernelspec": {
      "name": "python3",
      "display_name": "Python 3"
    },
    "language_info": {
      "name": "python"
    }
  },
  "cells": [
    {
      "cell_type": "code",
      "execution_count": null,
      "metadata": {
        "colab": {
          "base_uri": "https://localhost:8080/"
        },
        "id": "1TgibihAgYm5",
        "outputId": "65479368-65b2-44c1-cf69-775c4e1f2da5"
      },
      "outputs": [
        {
          "output_type": "stream",
          "name": "stdout",
          "text": [
            "hello world!\n"
          ]
        },
        {
          "output_type": "execute_result",
          "data": {
            "text/plain": [
              "6"
            ]
          },
          "metadata": {},
          "execution_count": 6
        }
      ],
      "source": [
        "print('hello world!')\n",
        "4+2"
      ]
    },
    {
      "cell_type": "code",
      "source": [
        "x = 'hello python'\n",
        "print(x)\n",
        "y = 42\n",
        "print(y)"
      ],
      "metadata": {
        "colab": {
          "base_uri": "https://localhost:8080/"
        },
        "id": "heQQOQs8gvi0",
        "outputId": "2c9f66a4-3061-4a39-b148-4137a7340ab8"
      },
      "execution_count": null,
      "outputs": [
        {
          "output_type": "stream",
          "name": "stdout",
          "text": [
            "hello python\n",
            "42\n"
          ]
        }
      ]
    },
    {
      "cell_type": "code",
      "source": [
        "print(\"this is a sample string\")\n",
        "\n",
        "name = \"Zen\"\n",
        "print(\"My name is\", name)\n",
        "print(\"My name is \" + name)"
      ],
      "metadata": {
        "colab": {
          "base_uri": "https://localhost:8080/"
        },
        "id": "lchpOIgO8PAs",
        "outputId": "1cd1b05c-e194-4c9a-b810-1f6a62f70e8f"
      },
      "execution_count": null,
      "outputs": [
        {
          "output_type": "stream",
          "name": "stdout",
          "text": [
            "this is a sample string\n",
            "My name is Zen\n",
            "My name is Zen\n"
          ]
        }
      ]
    },
    {
      "cell_type": "code",
      "source": [
        "# fstrings example. Used in Python 3.6 and newer formats\n",
        "first_name = \"Mike\"\n",
        "last_name = \"Mc\"\n",
        "age = 33\n",
        "print(f\"My name is {first_name} {last_name} and I am {age} years old.\")\n",
        "\n",
        "#older versions of python use the .format() method. Example below\n",
        "print(\"My name is {} {} and I am {} years old.\".format(first_name, last_name, age))\n",
        "\n",
        "#Older formats may use the %s (string) or %d (number) method to interpolate\n",
        "hw = \"Hello %s\" % \"world\" \t# with literal values\n",
        "py = \"I love Python %d\" % 3 \n",
        "print(hw, py)\n",
        "\n",
        "print(\"My name is %s %s and I am %d years old.\" % (first_name, last_name, age))\t"
      ],
      "metadata": {
        "colab": {
          "base_uri": "https://localhost:8080/"
        },
        "id": "H2mOOx_y9WEe",
        "outputId": "75a33913-70c6-4356-f4ca-338e7bc2b62c"
      },
      "execution_count": null,
      "outputs": [
        {
          "output_type": "stream",
          "name": "stdout",
          "text": [
            "My name is Mike Mc and I am 33 years old.\n",
            "My name is Mike Mc and I am 33 years old.\n",
            "Hello world I love Python 3\n",
            "My name is Mike Mc and I am 33 years old.\n"
          ]
        }
      ]
    },
    {
      "cell_type": "code",
      "source": [
        ""
      ],
      "metadata": {
        "id": "nGbzOSqr_jGP"
      },
      "execution_count": null,
      "outputs": []
    },
    {
      "cell_type": "code",
      "source": [
        "# string.upper(): returns a copy of the string with all the characters in uppercase. Example: print(\"hello world\".upper())\n",
        "# string.lower(): returns a copy of the string with all the characters in lowercase.\n",
        "# string.count(substring): returns number of occurrences of substring in string.\n",
        "# string.split(char): returns a list of values where string is split at the given character. Without a parameter the default split is at every space.\n",
        "# string.find(substring): returns the index of the start of the first occurrence of substring within string.\n",
        "# string.isalnum(): returns a boolean depending on whether the string's length is > 0 and all characters are alphanumeric (letters and numbers only). Strings that include spaces and punctuation will return False for this method. Similar methods include .isalpha(), .isdigit(), .islower(), .isupper(), and so on. All return booleans.\n",
        "# string.join(list): returns a string that is all strings within our set (in this case a list) concatenated.\n",
        "# string.endswith(substring): returns a boolean based upon whether the last characters of string match substring."
      ],
      "metadata": {
        "id": "_CjQ3Aop_jep"
      },
      "execution_count": null,
      "outputs": []
    }
  ]
}