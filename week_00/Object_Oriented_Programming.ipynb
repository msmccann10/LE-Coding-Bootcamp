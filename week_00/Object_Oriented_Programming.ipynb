{
  "nbformat": 4,
  "nbformat_minor": 0,
  "metadata": {
    "colab": {
      "name": "Object Oriented Programming.ipynb",
      "provenance": []
    },
    "kernelspec": {
      "name": "python3",
      "display_name": "Python 3"
    },
    "language_info": {
      "name": "python"
    }
  },
  "cells": [
    {
      "cell_type": "code",
      "execution_count": null,
      "metadata": {
        "id": "vrRm-kl4bbOi"
      },
      "outputs": [],
      "source": [
        "class User:\n",
        "    def __init__(self, username, email_address):# now our method has 2 parameters!\n",
        "        self.name = username\t\t\t# and we use the values passed in to set the name attribute\n",
        "        self.email = email_address\t\t# and the email attribute\n",
        "        self.account_balance = 0\t\t# the account balance is set to $0, so no need for a third parameter"
      ]
    },
    {
      "cell_type": "code",
      "source": [
        "Michael = User(\"Michael\", \"michael@python.com\")\n",
        "\n",
        "print(Michael.email)"
      ],
      "metadata": {
        "colab": {
          "base_uri": "https://localhost:8080/"
        },
        "id": "L2JAW7ybbqyv",
        "outputId": "4d09fe11-9313-4a8d-e052-5acf57c1ebc7"
      },
      "execution_count": null,
      "outputs": [
        {
          "output_type": "stream",
          "name": "stdout",
          "text": [
            "michael@python.com\n"
          ]
        }
      ]
    },
    {
      "cell_type": "code",
      "source": [
        "class User:\t\t# here's what we have so far\n",
        "    def __init__(self, name, email):\n",
        "        self.name = name\n",
        "        self.email = email\n",
        "        self.account_balance = 0\n",
        "    # adding the deposit method\n",
        "    def make_deposit(self, amount):\t# takes an argument that is the amount of the deposit\n",
        "    \tself.account_balance += amount\t# the specific user's account increases by the amount of the value received"
      ],
      "metadata": {
        "id": "PW4HZAHJdoL9"
      },
      "execution_count": null,
      "outputs": []
    },
    {
      "cell_type": "code",
      "source": [
        "guido = User(\"Guido van Rossum\", \"guido@python.com\")\n",
        "monty = User(\"Monty Python\", \"monty@python.com\")"
      ],
      "metadata": {
        "colab": {
          "base_uri": "https://localhost:8080/",
          "height": 183
        },
        "id": "_2f6t1mDdvKS",
        "outputId": "e49caecf-18ff-4ee6-d482-351aee48bcd8"
      },
      "execution_count": null,
      "outputs": [
        {
          "output_type": "error",
          "ename": "NameError",
          "evalue": "ignored",
          "traceback": [
            "\u001b[0;31m---------------------------------------------------------------------------\u001b[0m",
            "\u001b[0;31mNameError\u001b[0m                                 Traceback (most recent call last)",
            "\u001b[0;32m<ipython-input-1-b98ce2a9469f>\u001b[0m in \u001b[0;36m<module>\u001b[0;34m()\u001b[0m\n\u001b[0;32m----> 1\u001b[0;31m \u001b[0mguido\u001b[0m \u001b[0;34m=\u001b[0m \u001b[0mUser\u001b[0m\u001b[0;34m(\u001b[0m\u001b[0;34m\"Guido van Rossum\"\u001b[0m\u001b[0;34m,\u001b[0m \u001b[0;34m\"guido@python.com\"\u001b[0m\u001b[0;34m)\u001b[0m\u001b[0;34m\u001b[0m\u001b[0;34m\u001b[0m\u001b[0m\n\u001b[0m\u001b[1;32m      2\u001b[0m \u001b[0mmonty\u001b[0m \u001b[0;34m=\u001b[0m \u001b[0mUser\u001b[0m\u001b[0;34m(\u001b[0m\u001b[0;34m\"Monty Python\"\u001b[0m\u001b[0;34m,\u001b[0m \u001b[0;34m\"monty@python.com\"\u001b[0m\u001b[0;34m)\u001b[0m\u001b[0;34m\u001b[0m\u001b[0;34m\u001b[0m\u001b[0m\n",
            "\u001b[0;31mNameError\u001b[0m: name 'User' is not defined"
          ]
        }
      ]
    },
    {
      "cell_type": "code",
      "source": [
        "class User:\n",
        "    def __init__(self, name, email):\n",
        "        self.name = name\n",
        "        self.email = email\n",
        "        self.account = BankAccount(int_rate=0.02, balance=0)\t# added this line\n",
        "\n",
        "class User:\n",
        "    def example_method(self):\n",
        "        self.account.deposit(100)\t\t# we can call the BankAccount instance's methods\n",
        "    \tprint(self.account.balance)\t\t# or access its attributes"
      ],
      "metadata": {
        "id": "d9ckFzig5T2m"
      },
      "execution_count": null,
      "outputs": []
    }
  ]
}