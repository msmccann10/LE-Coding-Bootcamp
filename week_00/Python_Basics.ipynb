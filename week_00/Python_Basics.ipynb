{
  "nbformat": 4,
  "nbformat_minor": 0,
  "metadata": {
    "colab": {
      "name": "Python Basics.ipynb",
      "provenance": []
    },
    "kernelspec": {
      "name": "python3",
      "display_name": "Python 3"
    },
    "language_info": {
      "name": "python"
    }
  },
  "cells": [
    {
      "cell_type": "markdown",
      "source": [
        "# **Syntax**"
      ],
      "metadata": {
        "id": "4VnWufk0Jfvw"
      }
    },
    {
      "cell_type": "code",
      "execution_count": null,
      "metadata": {
        "id": "hvr-NKiPICTz"
      },
      "outputs": [],
      "source": [
        "#Indentation (vice brackets or braces) sets apart lines of code in a code block\n",
        "#def (functions)\n",
        "#if, elif, else (conditional statements)\n",
        "#for, while (loops)\n",
        "#class (classes)"
      ]
    },
    {
      "cell_type": "code",
      "source": [
        "#use pass to get around code blocks you have yet to write/finish. EX: \n",
        "class EmptyClass:\n",
        "    pass\n",
        "\n",
        "for val in my_string:\n",
        "    pass"
      ],
      "metadata": {
        "id": "MMm48-pYIbub"
      },
      "execution_count": null,
      "outputs": []
    },
    {
      "cell_type": "markdown",
      "source": [
        "# **Data Types**"
      ],
      "metadata": {
        "id": "YHQ7qW2oJnFz"
      }
    },
    {
      "cell_type": "markdown",
      "source": [
        "Primitive Data Types"
      ],
      "metadata": {
        "id": "m_8jNfTbRypK"
      }
    },
    {
      "cell_type": "code",
      "source": [
        "# Strings - Literal Text\n",
        "name = \"Joe Blue\""
      ],
      "metadata": {
        "id": "0gKHoV6gJyvm"
      },
      "execution_count": null,
      "outputs": []
    },
    {
      "cell_type": "code",
      "source": [
        "# Boolean Values - Assesses the truth value of something. It has only two values: \n",
        "is_hungry = True\n",
        "has_freckles = False"
      ],
      "metadata": {
        "id": "mZ9VGH2gR9ao"
      },
      "execution_count": null,
      "outputs": []
    },
    {
      "cell_type": "code",
      "source": [
        "# Numbers - Integers (whole numbers), floating point numbers (commonly known as decimal numbers), and complex numbers\n",
        "age = 35 # storing an int\n",
        "weight = 160.57 # storing a float"
      ],
      "metadata": {
        "id": "q5bAUdgrSGJx"
      },
      "execution_count": null,
      "outputs": []
    },
    {
      "cell_type": "markdown",
      "source": [
        "Composite Types\n"
      ],
      "metadata": {
        "id": "jwHvU6v8SLkd"
      }
    },
    {
      "cell_type": "code",
      "source": [
        "# Tuples - A type of data that is immutable (can't be modified after its creation) and can hold a group of values. \n",
        "# Tuples can contain mixed data types.\n",
        "dog = ('Bruce', 'cocker spaniel', 19, False)\n",
        "print(dog[0])\t\t# output: Bruce\n",
        "dog[1] = 'dachshund'\t# ERROR: cannot be modified "
      ],
      "metadata": {
        "colab": {
          "base_uri": "https://localhost:8080/",
          "height": 131
        },
        "id": "vcFt-fKmKdRS",
        "outputId": "c07ab5a7-7c4d-4f80-b513-5951ba8e5e18"
      },
      "execution_count": null,
      "outputs": [
        {
          "output_type": "error",
          "ename": "IndentationError",
          "evalue": "ignored",
          "traceback": [
            "\u001b[0;36m  File \u001b[0;32m\"<ipython-input-9-4ad633681d4f>\"\u001b[0;36m, line \u001b[0;32m4\u001b[0m\n\u001b[0;31m    dog = ('Bruce', 'cocker spaniel', 19, False)\u001b[0m\n\u001b[0m    ^\u001b[0m\n\u001b[0;31mIndentationError\u001b[0m\u001b[0;31m:\u001b[0m unexpected indent\n"
          ]
        }
      ]
    },
    {
      "cell_type": "code",
      "source": [
        "# List - A type of data that is mutable and can hold a group of values. Usually meant to store a collection of related data\n",
        "empty_list = []\n",
        "ninjas = ['Rozen', 'KB', 'Oliver']\n",
        "print(ninjas[2]) \t# output: Oliver\n",
        "ninjas[0] = 'Francis'\n",
        "ninjas.append('Michael')\n",
        "print(ninjas)\t# output: ['Francis', 'KB', 'Oliver', 'Michael']\n",
        "ninjas.pop()\n",
        "print(ninjas)\t# output: ['Francis', 'KB', 'Oliver']\n",
        "ninjas.pop(1)\n",
        "print(ninjas)\t# output: ['Francis', 'Oliver']"
      ],
      "metadata": {
        "colab": {
          "base_uri": "https://localhost:8080/"
        },
        "id": "Kd86_7FARbcn",
        "outputId": "7e118f90-1ec4-48da-b8ab-8a1ec5efeed6"
      },
      "execution_count": null,
      "outputs": [
        {
          "output_type": "stream",
          "name": "stdout",
          "text": [
            "{'name': 'Jack', 'age': 38, 'weight': 160.2, 'has_glasses': False}\n"
          ]
        }
      ]
    },
    {
      "cell_type": "code",
      "source": [
        "#Dictionaries - A group of key-value pairs. Dictionary elements are indexed by unique keys which are used to access values. \n",
        "empty_dict = {}\n",
        "new_person = {'name': 'John', 'age': 38, 'weight': 160.2, 'has_glasses': False}\n",
        "new_person['name'] = 'Jack'\t# updates if the key exists\n",
        "new_person['hobbies'] = ['climbing', 'coding']\t# adds a key-value pair if the key doesn't exist\n",
        "print(new_person)   # output: {'name': 'Jack', 'age': 38, 'weight': 160.2, 'has_glasses': False, 'hobbies': ['climbing', 'coding']}\n",
        "w = new_person.pop('weight')\t# removes the specified key and returns the value\n",
        "print(w)    # output: 160.2\n",
        "print(new_person)\t# output: {'name': 'Jack', 'age': 38, 'has_glasses': False, 'hobbies': ['climbing', 'coding']}  \n",
        "\n",
        "## Other dictionary functions can be found at <- https://www.w3schools.com/python/python_ref_dictionary.asp"
      ],
      "metadata": {
        "colab": {
          "base_uri": "https://localhost:8080/"
        },
        "id": "sZFz1r_aSxw9",
        "outputId": "60b93627-c8ee-470c-d947-a691a556cc2b"
      },
      "execution_count": null,
      "outputs": [
        {
          "output_type": "stream",
          "name": "stdout",
          "text": [
            "{'name': 'Jack', 'age': 38, 'weight': 160.2, 'has_glasses': False, 'hobbies': ['climbing', 'coding']}\n",
            "160.2\n",
            "{'name': 'Jack', 'age': 38, 'has_glasses': False, 'hobbies': ['climbing', 'coding']}\n"
          ]
        }
      ]
    },
    {
      "cell_type": "code",
      "source": [
        ".values()"
      ],
      "metadata": {
        "colab": {
          "base_uri": "https://localhost:8080/",
          "height": 166
        },
        "id": "chq33xxrTHdz",
        "outputId": "0768a4fb-4490-485e-b3c5-ac2dbe3b0e55"
      },
      "execution_count": null,
      "outputs": [
        {
          "output_type": "error",
          "ename": "NameError",
          "evalue": "ignored",
          "traceback": [
            "\u001b[0;31m---------------------------------------------------------------------------\u001b[0m",
            "\u001b[0;31mNameError\u001b[0m                                 Traceback (most recent call last)",
            "\u001b[0;32m<ipython-input-19-14b6cdbe3977>\u001b[0m in \u001b[0;36m<module>\u001b[0;34m()\u001b[0m\n\u001b[0;32m----> 1\u001b[0;31m \u001b[0mkeys\u001b[0m\u001b[0;34m.\u001b[0m\u001b[0mvalues\u001b[0m\u001b[0;34m(\u001b[0m\u001b[0;34m)\u001b[0m\u001b[0;34m\u001b[0m\u001b[0;34m\u001b[0m\u001b[0m\n\u001b[0m",
            "\u001b[0;31mNameError\u001b[0m: name 'keys' is not defined"
          ]
        }
      ]
    },
    {
      "cell_type": "markdown",
      "source": [
        "# **Common Functions**"
      ],
      "metadata": {
        "id": "ldIg2xrpT5sc"
      }
    },
    {
      "cell_type": "code",
      "source": [
        "# type will tell you what class your variable is. EX:\n",
        "print(type(2.63))\t\t# output: <class 'float'>\n",
        "print(type(new_person))\t\t# output: <class 'dict'>"
      ],
      "metadata": {
        "id": "XcXiSin8T8Qb"
      },
      "execution_count": null,
      "outputs": []
    },
    {
      "cell_type": "code",
      "source": [
        "# len will give you the length attribute of an object.\n",
        "print(len(new_person))\t\t# output: 4 (the number of key-value pairs)\n",
        "print(len('Coding Dojo'))\t# output: 11"
      ],
      "metadata": {
        "id": "gCM0p_jBUpK0"
      },
      "execution_count": null,
      "outputs": []
    },
    {
      "cell_type": "code",
      "source": [
        "# Type Casting or Explicit Type Conversion: Swapping class type on the fly within code block/chunk\n",
        "print(\"Hello\" + 42)\t\t\t# output: TypeError\n",
        "print(\"Hello\" + str(42))\t\t# output: Hello 42\n",
        "\n",
        "total = 35\n",
        "user_val = \"26\"\n",
        "total = total + user_val\t\t# output: TypeError\n",
        "total = total + int(user_val)\t\t# total will be 61"
      ],
      "metadata": {
        "id": "DeDE0vm0Vy_m"
      },
      "execution_count": null,
      "outputs": []
    },
    {
      "cell_type": "markdown",
      "source": [
        "## **Conditionals**\n",
        "\n",
        "The primary conditional statements in python are if, elif, and else\n",
        "\n",
        "## **Comparison and Logical Operators**\n",
        "\n",
        "used within python grammar to make comparisons and check the trueness/falsness of a statement. The primary onesa re as follows..\n",
        "\n",
        ">== checks if both operands are equal (equal to) <br>\n",
        ">!= checks if both operands aare not equal (not equal) <br>\n",
        ">. > checks if left operand is greater than the right (greater than) <br>\n",
        ">< checks if left operand is less than the right (less than) <br>\n",
        ">.  >= checks if left operand is greater/equal to right (greater or equal) <br>\n",
        "><= checks if left operand is less/equal to right (less or equal)<br>\n",
        ">and checks if both are true<br>\n",
        ">or checks if either are true<br>\n",
        ">not reverses the true/false operand<br>"
      ],
      "metadata": {
        "id": "JQKZQnM17tfE"
      }
    },
    {
      "cell_type": "markdown",
      "source": [
        "## **For Loops**\n",
        "\n",
        "Used to iterate through loops using the range function\n",
        "\n",
        "Range takes three arguements range(start, end, incriment)\n",
        "\n",
        "the only required argemets is the end position... the start will be assumed as 0 and the incriment as +1. \n",
        ">for x in range(0, 10, 1): <br>\n",
        ">for x in range(0, 10):\t# increment of +1 is implied <br>\n",
        ">for x in range(10):\t# increment of +1 and start at 0 is implied\n"
      ],
      "metadata": {
        "id": "0C9ubocVHNgz"
      }
    },
    {
      "cell_type": "markdown",
      "source": [
        "For Loops through a List"
      ],
      "metadata": {
        "id": "IbX6rCEKLRvj"
      }
    },
    {
      "cell_type": "code",
      "source": [
        "my_list = [\"abc\", 123, \"xyz\"]\n",
        "for i in range(0, len(my_list)):\n",
        "    print(i, my_list[i])\n",
        "# output: 0 abc, 1 123, 2 xyz\n",
        "    \n",
        "# OR \n",
        "    \n",
        "for v in my_list:\n",
        "    print(v)\n",
        "# output: abc, 123, xyz"
      ],
      "metadata": {
        "id": "dev2Z9iBI3-V"
      },
      "execution_count": null,
      "outputs": []
    },
    {
      "cell_type": "markdown",
      "source": [
        "For Loops through a Dictionary"
      ],
      "metadata": {
        "id": "bRn-ftURLYXa"
      }
    },
    {
      "cell_type": "code",
      "source": [
        "#Note it defaults to the key\n",
        "my_dict = { \"name\": \"Noelle\", \"language\": \"Python\" }\n",
        "for k in my_dict:\n",
        "    print(k)\n",
        "# output: name, language\n",
        "\n",
        "#To get the values use the following:\n",
        "my_dict = { \"name\": \"Noelle\", \"language\": \"Python\" }\n",
        "for k in my_dict:\n",
        "    print(my_dict[k])\n",
        "# output: Noelle, Python\n",
        "\n",
        "#To Specify the keys or values arguement\n",
        "for key in capitals.keys():\n",
        "     print(key)\n",
        "#to iterate through the values\n",
        "for val in capitals.values():\n",
        "     print(val)\n",
        "#to iterate through both keys and values\n",
        "for key, val in capitals.items():\n",
        "     print(key, \" = \", val)"
      ],
      "metadata": {
        "id": "vzhZAR9VHSIN"
      },
      "execution_count": null,
      "outputs": []
    },
    {
      "cell_type": "markdown",
      "source": [
        "## **While Loops**\n",
        "Allow us to iterate through a loop until a condition is met "
      ],
      "metadata": {
        "id": "lFNReKmpMXCQ"
      }
    },
    {
      "cell_type": "code",
      "source": [
        "count = 0\n",
        "while count < 5:\n",
        "    print(\"looping - \", count)\n",
        "    count += 1"
      ],
      "metadata": {
        "id": "7gSI3ImDMkB5",
        "outputId": "51a720ef-d629-4642-a4db-90173068f59b",
        "colab": {
          "base_uri": "https://localhost:8080/"
        }
      },
      "execution_count": null,
      "outputs": [
        {
          "output_type": "stream",
          "name": "stdout",
          "text": [
            "looping -  0\n",
            "looping -  1\n",
            "looping -  2\n",
            "looping -  3\n",
            "looping -  4\n"
          ]
        }
      ]
    },
    {
      "cell_type": "markdown",
      "source": [
        "## **Else (with loops)**\n",
        "Allow us to define what happens if the conditions within a loop are not met\n",
        "\n",
        "Note that this else code section is only executed if the while loop runs normally and its conditional is false. If instead our while loop is exited prematurely because of a break or return statement, then the else code section will never be executed."
      ],
      "metadata": {
        "id": "IGQCiw23Mt1N"
      }
    },
    {
      "cell_type": "code",
      "source": [
        "y = 3\n",
        "while y > 0:\n",
        "    print(y)\n",
        "    y = y - 1\n",
        "else:\n",
        "    print(\"Final else statement\")"
      ],
      "metadata": {
        "id": "VCrSmy3qMtCN"
      },
      "execution_count": null,
      "outputs": []
    },
    {
      "cell_type": "markdown",
      "source": [
        "## ** Loop Control - Breaks/Continue**\n",
        "\n",
        "Break: exits the current loop prematurely, resuming execution at the first post-loop statement. The break statement can be used in both while and for loops.\n",
        "\n",
        "Continue: immediately returns control to the beginning of the loop. In other words, the continue statement rejects, or skips, all the remaining statements in the current iteration of the loop, and continues normal execution at the top of the loop.\n",
        "\n",
        "The continue statement is very useful when you want to skip specific iteration(s), but still keep looping to the end.\n"
      ],
      "metadata": {
        "id": "GAqXgcbHNZYU"
      }
    },
    {
      "cell_type": "code",
      "source": [
        "for val in \"string\":\n",
        "    if val == \"i\":\n",
        "        break\n",
        "    print(val)\n",
        "# output: s, t, r\n",
        "# Notice that when the loop got to the letter \"i\", we stopped looping.\n",
        "\n",
        "for val in \"string\":\n",
        "    if val == \"i\":\n",
        "        continue\n",
        "    print(val)\n",
        "# output: s, t, r, n, g\n",
        "# notice, no i in the output, but the loop continued after the i"
      ],
      "metadata": {
        "id": "N2Wg__yDOGY-"
      },
      "execution_count": null,
      "outputs": []
    }
  ]
}